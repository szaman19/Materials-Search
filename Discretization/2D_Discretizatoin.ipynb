{
 "cells": [
  {
   "cell_type": "code",
   "execution_count": 1,
   "metadata": {},
   "outputs": [],
   "source": [
    "import numpy as np\n",
    "from scipy.spatial import distance\n",
    "from scipy import special\n",
    "import matplotlib.pyplot as plt\n",
    "from skimage.morphology import flood_fill\n",
    "import torch\n",
    "from torch.autograd import gradcheck"
   ]
  },
  {
   "cell_type": "markdown",
   "metadata": {},
   "source": [
    "## Let's start with some random 'Atoms' on a 2D plane"
   ]
  },
  {
   "cell_type": "markdown",
   "metadata": {},
   "source": [
    "### Original Discrete Representation:"
   ]
  },
  {
   "cell_type": "code",
   "execution_count": 2,
   "metadata": {},
   "outputs": [],
   "source": [
    "coords = np.random.random((10,2))"
   ]
  },
  {
   "cell_type": "code",
   "execution_count": 3,
   "metadata": {},
   "outputs": [
    {
     "name": "stdout",
     "output_type": "stream",
     "text": [
      "The discrete represntation shape is: (10, 2)\n"
     ]
    }
   ],
   "source": [
    "print(\"The discrete represntation shape is:\", coords.shape)"
   ]
  },
  {
   "cell_type": "code",
   "execution_count": 4,
   "metadata": {},
   "outputs": [
    {
     "data": {
      "text/plain": [
       "array([[0.09351149, 0.69863685],\n",
       "       [0.84489965, 0.71691018],\n",
       "       [0.93395185, 0.74593246],\n",
       "       [0.60348014, 0.59408402],\n",
       "       [0.91124729, 0.33968423],\n",
       "       [0.38776003, 0.78788008],\n",
       "       [0.75590713, 0.43913485],\n",
       "       [0.63246571, 0.21669877],\n",
       "       [0.2612007 , 0.47352585],\n",
       "       [0.23823558, 0.96702594]])"
      ]
     },
     "execution_count": 4,
     "metadata": {},
     "output_type": "execute_result"
    }
   ],
   "source": [
    "coords"
   ]
  },
  {
   "cell_type": "code",
   "execution_count": 5,
   "metadata": {},
   "outputs": [
    {
     "data": {
      "text/plain": [
       "(0, 1)"
      ]
     },
     "execution_count": 5,
     "metadata": {},
     "output_type": "execute_result"
    },
    {
     "data": {
      "image/png": "[encoded data removed]",
      "text/plain": [
       "<Figure size 432x288 with 1 Axes>"
      ]
     },
     "metadata": {
      "needs_background": "light"
     },
     "output_type": "display_data"
    }
   ],
   "source": [
    "plt.scatter(coords[:,0],coords[:,1])\n",
    "plt.ylim(0,1)\n",
    "plt.xlim(0,1)"
   ]
  },
  {
   "cell_type": "markdown",
   "metadata": {},
   "source": [
    "## Continuous Representation:\n",
    "\n",
    "#### Let's do the 'forward' step of representing the coordinates as a 2D grid i.e. image"
   ]
  },
  {
   "cell_type": "code",
   "execution_count": 6,
   "metadata": {},
   "outputs": [],
   "source": [
    "def coord_to_grid(coords, variance=0.04, grid_size=32):\n",
    "    x_coords = np.linspace(0., 1, grid_size+1)\n",
    "    y_coords = np.linspace(0., 1, grid_size+1)\n",
    "\n",
    "    x_a, y_a = np.meshgrid(x_coords[:-1], y_coords[:-1])\n",
    "    x_b, y_b = np.meshgrid(x_coords[1:], y_coords[1:])\n",
    "\n",
    "    grid_a = np.vstack((x_a.flatten(), y_a.flatten())).T\n",
    "    grid_b = np.vstack((x_b.flatten(), y_b.flatten())).T\n",
    "\n",
    "    x_a = distance.cdist(grid_a[:,0].reshape(-1,1), coords[:,0].reshape(-1,1),lambda u,v: v-u)\n",
    "    y_a = distance.cdist(grid_a[:,1].reshape(-1,1), coords[:,1].reshape(-1,1),lambda u,v: v-u)\n",
    "    \n",
    "    x_b = distance.cdist(grid_b[:,0].reshape(-1,1), coords[:,0].reshape(-1,1),lambda u,v: v-u)\n",
    "    y_b = distance.cdist(grid_b[:,1].reshape(-1,1), coords[:,1].reshape(-1,1),lambda u,v: v-u)\n",
    "\n",
    "    u_sub = np.sqrt(2) / (2 * variance)\n",
    "\n",
    "    err_x = (special.erf(u_sub * x_a) - special.erf(u_sub * x_b))\n",
    "    err_y = (special.erf(u_sub * y_a) - special.erf(u_sub * y_b))\n",
    "\n",
    "    out = np.multiply(err_x, err_y).sum(-1) / 4\n",
    "    out = out.reshape((grid_size,grid_size))\n",
    "    return out"
   ]
  },
  {
   "cell_type": "code",
   "execution_count": 7,
   "metadata": {},
   "outputs": [],
   "source": [
    "out = coord_to_grid(coords, variance=0.03)"
   ]
  },
  {
   "cell_type": "code",
   "execution_count": 8,
   "metadata": {},
   "outputs": [
    {
     "name": "stdout",
     "output_type": "stream",
     "text": [
      "The resolution of the image (32, 32)\n"
     ]
    }
   ],
   "source": [
    "print(\"The resolution of the image\",out.shape)"
   ]
  },
  {
   "cell_type": "markdown",
   "metadata": {},
   "source": [
    "### Let's take a look at what the origina image looks like"
   ]
  },
  {
   "cell_type": "code",
   "execution_count": 9,
   "metadata": {},
   "outputs": [
    {
     "data": {
      "text/plain": [
       "<matplotlib.collections.PathCollection at 0x7fbd07fd1b00>"
      ]
     },
     "execution_count": 9,
     "metadata": {},
     "output_type": "execute_result"
    },
    {
     "data": {
      "image/png": "[encoded data removed]",
      "text/plain": [
       "<Figure size 720x720 with 1 Axes>"
      ]
     },
     "metadata": {
      "needs_background": "light"
     },
     "output_type": "display_data"
    }
   ],
   "source": [
    "plt.figure(figsize=(10,10))\n",
    "plt.imshow(out)\n",
    "plt.scatter(coords[:,0]*32, coords[:,1]*32, c='r', s=100)\n",
    "# plt.ylim(0,32)"
   ]
  },
  {
   "cell_type": "markdown",
   "metadata": {},
   "source": [
    "## Backward Step: \n",
    "\n",
    "#### We want to be able to retrieve the original discrete representation of the atoms\n",
    "\n",
    "#### We will try to go from a (128,128) image to a (5,2) list"
   ]
  },
  {
   "cell_type": "markdown",
   "metadata": {},
   "source": [
    "We start of with a simple thresholding"
   ]
  },
  {
   "cell_type": "code",
   "execution_count": 10,
   "metadata": {},
   "outputs": [
    {
     "name": "stdout",
     "output_type": "stream",
     "text": [
      "Quickly check the number of atoms:  10.0\n"
     ]
    }
   ],
   "source": [
    "print(\"Quickly check the number of atoms: \", np.ceil(out.sum()))"
   ]
  },
  {
   "cell_type": "markdown",
   "metadata": {},
   "source": [
    "### Select the THRESHOLD starting points\n"
   ]
  },
  {
   "cell_type": "code",
   "execution_count": 11,
   "metadata": {},
   "outputs": [
    {
     "name": "stdout",
     "output_type": "stream",
     "text": [
      "Intial number of non zero values:  934\n",
      "Binarized Thresholded number of non zero values:  35\n"
     ]
    }
   ],
   "source": [
    "THRESHOLD = out.max() - 2*out.std()\n",
    "print(\"Intial number of non zero values: \", np.count_nonzero(out))\n",
    "out[out < THRESHOLD] = 0\n",
    "out[out > THRESHOLD] = 1\n",
    "print(\"Binarized Thresholded number of non zero values: \", np.count_nonzero(out))"
   ]
  },
  {
   "cell_type": "code",
   "execution_count": 12,
   "metadata": {},
   "outputs": [
    {
     "data": {
      "text/plain": [
       "<matplotlib.collections.PathCollection at 0x7fbd07d46f98>"
      ]
     },
     "execution_count": 12,
     "metadata": {},
     "output_type": "execute_result"
    },
    {
     "data": {
      "image/png": "[encoded data removed]",
      "text/plain": [
       "<Figure size 720x720 with 1 Axes>"
      ]
     },
     "metadata": {
      "needs_background": "light"
     },
     "output_type": "display_data"
    }
   ],
   "source": [
    "plt.figure(figsize=(10,10))\n",
    "plt.imshow(out)\n",
    "plt.scatter(coords[:,0]*32, coords[:,1]*32, c='r', s=100)"
   ]
  },
  {
   "cell_type": "code",
   "execution_count": 13,
   "metadata": {},
   "outputs": [
    {
     "data": {
      "text/plain": [
       "(6, 19)"
      ]
     },
     "execution_count": 13,
     "metadata": {},
     "output_type": "execute_result"
    }
   ],
   "source": [
    "possible_atom = np.unravel_index(out.argmax(), (32,32))\n",
    "possible_atom"
   ]
  },
  {
   "cell_type": "code",
   "execution_count": 15,
   "metadata": {},
   "outputs": [],
   "source": [
    "atom_pos = []\n",
    "possible_atom = np.unravel_index(out.argmax(), (32,32))\n",
    "count = -1\n",
    "while out[possible_atom] > 0:\n",
    "    \n",
    "    atom_pos.append(possible_atom)\n",
    "    flood_fill(out, possible_atom, count , inplace=True)\n",
    "    possible_atom = np.unravel_index(out.argmax(), (32,32))\n",
    "\n",
    "    count -= 1"
   ]
  },
  {
   "cell_type": "code",
   "execution_count": 16,
   "metadata": {},
   "outputs": [
    {
     "name": "stdout",
     "output_type": "stream",
     "text": [
      "[[0.59375 0.1875 ]\n",
      " [0.875   0.3125 ]\n",
      " [0.71875 0.40625]\n",
      " [0.25    0.4375 ]\n",
      " [0.5625  0.5625 ]\n",
      " [0.0625  0.6875 ]\n",
      " [0.8125  0.6875 ]\n",
      " [0.375   0.75   ]\n",
      " [0.21875 0.9375 ]]\n"
     ]
    }
   ],
   "source": [
    "atom_pos = np.array(atom_pos)\n",
    "print(atom_pos[:,[1,0]]/32)"
   ]
  },
  {
   "cell_type": "markdown",
   "metadata": {},
   "source": [
    "### First approximation of possible atom positions\n",
    "\n",
    "#### We can see that we are missing a few atoms still"
   ]
  },
  {
   "cell_type": "code",
   "execution_count": 17,
   "metadata": {},
   "outputs": [
    {
     "data": {
      "text/plain": [
       "<matplotlib.collections.PathCollection at 0x7fbd07f3eba8>"
      ]
     },
     "execution_count": 17,
     "metadata": {},
     "output_type": "execute_result"
    },
    {
     "data": {
      "image/png": "[encoded data removed]",
      "text/plain": [
       "<Figure size 720x720 with 1 Axes>"
      ]
     },
     "metadata": {
      "needs_background": "light"
     },
     "output_type": "display_data"
    }
   ],
   "source": [
    "plt.figure(figsize=(10,10))\n",
    "# plt.ylim(0,32)\n",
    "# plt.imshow(out)\n",
    "plt.scatter(coords[:,0]*32, coords[:,1]*32, c='r', s=100)\n",
    "plt.scatter(atom_pos[:,1], atom_pos[:,0], c='b', s=100)"
   ]
  },
  {
   "cell_type": "markdown",
   "metadata": {},
   "source": [
    "## What does the grid look like from approximate coordinates?"
   ]
  },
  {
   "cell_type": "code",
   "execution_count": 18,
   "metadata": {},
   "outputs": [
    {
     "name": "stdout",
     "output_type": "stream",
     "text": [
      "9\n"
     ]
    }
   ],
   "source": [
    "print(len(atom_pos))"
   ]
  },
  {
   "cell_type": "code",
   "execution_count": 19,
   "metadata": {},
   "outputs": [
    {
     "data": {
      "text/plain": [
       "<matplotlib.image.AxesImage at 0x7fbd07e98ef0>"
      ]
     },
     "execution_count": 19,
     "metadata": {},
     "output_type": "execute_result"
    },
    {
     "data": {
      "image/png": "[encoded data removed]",
      "text/plain": [
       "<Figure size 720x720 with 1 Axes>"
      ]
     },
     "metadata": {
      "needs_background": "light"
     },
     "output_type": "display_data"
    }
   ],
   "source": [
    "partial_coords = atom_pos[:,[1,0]]/32\n",
    "partial_grid = coord_to_grid(partial_coords, variance=0.03)\n",
    "plt.figure(figsize=(10,10))\n",
    "# flood_fill(out, possible_atom, -1 , in_place=True)\n",
    "plt.imshow(partial_grid)"
   ]
  },
  {
   "cell_type": "markdown",
   "metadata": {},
   "source": [
    "### We can get the atoms missed in first pass"
   ]
  },
  {
   "cell_type": "code",
   "execution_count": 23,
   "metadata": {},
   "outputs": [
    {
     "data": {
      "text/plain": [
       "<matplotlib.image.AxesImage at 0x7fbd07a20f60>"
      ]
     },
     "execution_count": 23,
     "metadata": {},
     "output_type": "execute_result"
    },
    {
     "data": {
      "image/png": "[encoded data removed]",
      "text/plain": [
       "<Figure size 1512x504 with 3 Axes>"
      ]
     },
     "metadata": {
      "needs_background": "light"
     },
     "output_type": "display_data"
    }
   ],
   "source": [
    "out = coord_to_grid(coords, variance=0.03)\n",
    "new_grid = out - partial_grid\n",
    "THRESHOLD = new_grid.max() - .5*new_grid.std()\n",
    "\n",
    "fig, (ax1, ax2, ax3) = plt.subplots(1, 3, figsize=(21,7))\n",
    "# plt.ylim(0,32)\n",
    "ax1.imshow(out)\n",
    "ax2.imshow(partial_grid)\n",
    "\n",
    "\n",
    "# flood_fill(out, possible_atom, -1 , in_place=True)\n",
    "new_grid[new_grid < THRESHOLD] = 0\n",
    "new_grid[new_grid > THRESHOLD] = 1\n",
    "\n",
    "ax3.imshow(new_grid)"
   ]
  },
  {
   "cell_type": "code",
   "execution_count": 486,
   "metadata": {},
   "outputs": [
    {
     "data": {
      "text/plain": [
       "493"
      ]
     },
     "execution_count": 486,
     "metadata": {},
     "output_type": "execute_result"
    }
   ],
   "source": [
    "new_grid.argmax()"
   ]
  },
  {
   "cell_type": "code",
   "execution_count": 25,
   "metadata": {},
   "outputs": [
    {
     "name": "stdout",
     "output_type": "stream",
     "text": [
      "765\n",
      "0.1437514498353251\n",
      "[[29 23]]\n"
     ]
    }
   ],
   "source": [
    "partial_pos = []\n",
    "possible_atom = np.unravel_index(new_grid.argmax(), (32,32))\n",
    "count = -1\n",
    "print(new_grid.argmax())\n",
    "while out[possible_atom] > 1e-6:\n",
    "    partial_pos.append(possible_atom)\n",
    "    print(out[possible_atom])\n",
    "    flood_fill(new_grid, possible_atom, count , inplace=True)\n",
    "    possible_atom = np.unravel_index(new_grid.argmax(), (32,32))\n",
    "partial_pos = np.array(partial_pos)\n",
    "print(partial_pos[:,[1,0]])"
   ]
  },
  {
   "cell_type": "markdown",
   "metadata": {},
   "source": [
    "# Our starting approximation of the atom positions"
   ]
  },
  {
   "cell_type": "code",
   "execution_count": 26,
   "metadata": {},
   "outputs": [
    {
     "data": {
      "text/plain": [
       "<matplotlib.collections.PathCollection at 0x7fbd0790acc0>"
      ]
     },
     "execution_count": 26,
     "metadata": {},
     "output_type": "execute_result"
    },
    {
     "data": {
      "image/png": "[encoded data removed]",
      "text/plain": [
       "<Figure size 720x720 with 1 Axes>"
      ]
     },
     "metadata": {
      "needs_background": "light"
     },
     "output_type": "display_data"
    }
   ],
   "source": [
    "rem_coords = partial_pos[:,[1,0]] / 32\n",
    "\n",
    "total_coords = np.concatenate([rem_coords, partial_coords], axis=0)\n",
    "\n",
    "plt.figure(figsize=(10,10))\n",
    "# plt.ylim(0,32)\n",
    "# plt.imshow(out)\n",
    "plt.scatter(coords[:,0]*32, coords[:,1]*32, c='r', s=100)\n",
    "plt.scatter(total_coords[:,0]*32, total_coords[:,1]*32, c='b', s=100)"
   ]
  },
  {
   "cell_type": "markdown",
   "metadata": {},
   "source": [
    "## Can we optimize the approximate positions? \n",
    "\n",
    "### The projected positions are very close but not an exact match. We can treat finding the exact positions of the atoms as an optimization problem! \n",
    "### By differentiably generating grids from the approximate coordinates, we can then compare with the original grid. Minimizing the positions of the found coordinates such that the grids difference is minimized provides us with the best possible approximation of the points"
   ]
  },
  {
   "cell_type": "code",
   "execution_count": 27,
   "metadata": {},
   "outputs": [],
   "source": [
    "def torch_err_approx(val):\n",
    "    \"\"\"Differentiable error function to use with Torch\n",
    "    \"\"\"\n",
    "    mask = val < 0\n",
    "    \n",
    "    with torch.no_grad():\n",
    "        _val = torch.zeros(val.shape)\n",
    "        _val[mask] = -2* val[mask] \n",
    "    n_val = val + _val\n",
    "    p = 0.3275911\n",
    "    a1 = 0.254829592\n",
    "    a2 = -0.284496736\n",
    "    a3 = 1.421413741\n",
    "    a4 = -1.453152027\n",
    "    a5 = 1.061405429\n",
    "    t = 1 / (1+p*n_val)\n",
    "    \n",
    "    t1 = a1 * t\n",
    "    t2 = a2 * (t**2)\n",
    "    t3 = a3 * (t**3)\n",
    "    t4 = a4 * (t**4)\n",
    "    t5 = a5 * (t**5)\n",
    "    \n",
    "    val_sq = torch.pow(n_val, 2)\n",
    "    \n",
    "    err_val = torch.tensor(1, dtype=torch.float) - (t1+t2+t3+t4+t5) * torch.exp(-val_sq).float()\n",
    "#     val[mask] = -1* val[mask]\n",
    "    with torch.no_grad():\n",
    "        _temp = torch.zeros(val.shape)\n",
    "        _temp[mask] = -2* err_val[mask]\n",
    "    out = err_val + _temp\n",
    "    return out"
   ]
  },
  {
   "cell_type": "code",
   "execution_count": 28,
   "metadata": {},
   "outputs": [
    {
     "data": {
      "text/plain": [
       "array([[0.09351149, 0.69863685],\n",
       "       [0.84489965, 0.71691018],\n",
       "       [0.93395185, 0.74593246],\n",
       "       [0.60348014, 0.59408402],\n",
       "       [0.91124729, 0.33968423],\n",
       "       [0.38776003, 0.78788008],\n",
       "       [0.75590713, 0.43913485],\n",
       "       [0.63246571, 0.21669877],\n",
       "       [0.2612007 , 0.47352585],\n",
       "       [0.23823558, 0.96702594]])"
      ]
     },
     "execution_count": 28,
     "metadata": {},
     "output_type": "execute_result"
    }
   ],
   "source": [
    "coords"
   ]
  },
  {
   "cell_type": "code",
   "execution_count": 45,
   "metadata": {},
   "outputs": [],
   "source": [
    "random_data = torch.rand((2,1024,2), dtype=torch.float, requires_grad=True) - 0.5"
   ]
  },
  {
   "cell_type": "markdown",
   "metadata": {},
   "source": [
    "## Check if function is close"
   ]
  },
  {
   "cell_type": "code",
   "execution_count": 46,
   "metadata": {},
   "outputs": [
    {
     "name": "stdout",
     "output_type": "stream",
     "text": [
      "True\n",
      "[[[ 0.17365277  0.02719816]\n",
      "  [ 0.08513831 -0.25331226]\n",
      "  [ 0.39181492 -0.32182857]\n",
      "  ...\n",
      "  [ 0.4589369   0.47878098]\n",
      "  [-0.4379777  -0.18242013]\n",
      "  [ 0.1945962  -0.3460984 ]]\n",
      "\n",
      " [[-0.3149814  -0.3923368 ]\n",
      "  [ 0.19979909  0.19553079]\n",
      "  [ 0.44850966  0.16521035]\n",
      "  ...\n",
      "  [ 0.00695701  0.29501477]\n",
      "  [ 0.39951375  0.32564244]\n",
      "  [-0.06642202  0.21147911]]]\n",
      "tensor([[[ 0.1737,  0.0272],\n",
      "         [ 0.0851, -0.2533],\n",
      "         [ 0.3918, -0.3218],\n",
      "         ...,\n",
      "         [ 0.4589,  0.4788],\n",
      "         [-0.4380, -0.1824],\n",
      "         [ 0.1946, -0.3461]],\n",
      "\n",
      "        [[-0.3150, -0.3923],\n",
      "         [ 0.1998,  0.1955],\n",
      "         [ 0.4485,  0.1652],\n",
      "         ...,\n",
      "         [ 0.0070,  0.2950],\n",
      "         [ 0.3995,  0.3256],\n",
      "         [-0.0664,  0.2115]]])\n"
     ]
    }
   ],
   "source": [
    "_rand_data_numpy = random_data.detach().numpy()\n",
    "\n",
    "np_erf = special.erf(_rand_data_numpy)\n",
    "\n",
    "torch_erf = torch_err_approx(random_data)\n",
    "\n",
    "print(np.allclose(np_erf, torch_erf.detach().numpy(),rtol=1e-3, atol=1e-5))\n",
    "\n",
    "print(np_erf)\n",
    "print(torch_erf.detach())"
   ]
  },
  {
   "cell_type": "markdown",
   "metadata": {},
   "source": [
    "## Check if gradients work"
   ]
  },
  {
   "cell_type": "code",
   "execution_count": 47,
   "metadata": {},
   "outputs": [
    {
     "name": "stderr",
     "output_type": "stream",
     "text": [
      "/home/szaman5/Materials-Search/venv/lib/python3.6/site-packages/torch/autograd/gradcheck.py:267: UserWarning: The {}th input requires gradient and is not a double precision floating point or complex. This check will likely fail if all the inputs are not of double precision floating point or complex. \n",
      "  'The {}th input requires gradient and '\n"
     ]
    },
    {
     "name": "stdout",
     "output_type": "stream",
     "text": [
      "True\n"
     ]
    }
   ],
   "source": [
    "torch.autograd.set_detect_anomaly(True)\n",
    "test = gradcheck(torch_err_approx,random_data, eps=1e-4, atol=1e-3, rtol=0.01) # Increase tolerance for floating point precision\n",
    "print(test)"
   ]
  },
  {
   "cell_type": "code",
   "execution_count": 29,
   "metadata": {},
   "outputs": [],
   "source": [
    "def get_grids(coords, variance=0.04, grid_size=32):\n",
    "    x_coords = np.linspace(0., 1, grid_size+1)\n",
    "    y_coords = np.linspace(0., 1, grid_size+1)\n",
    "\n",
    "    x_a, y_a = np.meshgrid(x_coords[:-1], y_coords[:-1])\n",
    "    x_b, y_b = np.meshgrid(x_coords[1:], y_coords[1:])\n",
    "\n",
    "    grid_a = np.vstack((x_a.flatten(), y_a.flatten())).T\n",
    "    grid_b = np.vstack((x_b.flatten(), y_b.flatten())).T\n",
    "\n",
    "    return grid_a, grid_b\n",
    "\n",
    "def custom_dist(coords, grid):\n",
    "    # Torch doesn't have the cdist we want to we resort to a loop\n",
    "    # Maybe a faster solution exists\n",
    "    \n",
    "    R = coords.size(0)\n",
    "    P = grid.size(0)\n",
    "    \n",
    "    dist_x = torch.zeros((R, P, 2)).float() \n",
    "    \n",
    "    for i,coord in enumerate(coords):\n",
    "        dist_x[i] = (coord - grid) \n",
    "    return dist_x\n",
    "    \n",
    "def diff_grid_generator(coords, grid_a, grid_b, variance=0.03):\n",
    "    \n",
    "    # N x 1024 x 2 \n",
    "    grid_a_dist = custom_dist(coords, grid_a)\n",
    "    grid_b_dist = custom_dist(coords, grid_b)\n",
    "    \n",
    "    u_sub = torch.sqrt(torch.tensor(2.0, requires_grad=True)) / (2 * variance)\n",
    "    \n",
    "    x_a_coords = grid_a_dist[:,:,0]\n",
    "    x_b_coords = grid_b_dist[:,:,0]\n",
    "    \n",
    "    y_a_coords = grid_a_dist[:,:,1]\n",
    "    y_b_coords = grid_b_dist[:,:,1]\n",
    "    err_x = (torch_err_approx(u_sub * x_a_coords) - torch_err_approx(u_sub * x_b_coords)) \n",
    "    err_y = (torch_err_approx(u_sub * y_a_coords) - torch_err_approx(u_sub * y_b_coords)) \n",
    "    \n",
    "    err = err_x * err_y / 4\n",
    "    \n",
    "    grid = torch.sum(err, dim=0)\n",
    "    grid = grid.reshape((32,32))\n",
    "    \n",
    "    return grid\n",
    "    "
   ]
  },
  {
   "cell_type": "markdown",
   "metadata": {},
   "source": [
    "### Check if the gradient is computed correctly"
   ]
  },
  {
   "cell_type": "code",
   "execution_count": 48,
   "metadata": {},
   "outputs": [],
   "source": [
    "random_data = torch.rand((10,2), dtype=torch.float, requires_grad=True)"
   ]
  },
  {
   "cell_type": "code",
   "execution_count": 49,
   "metadata": {},
   "outputs": [
    {
     "name": "stdout",
     "output_type": "stream",
     "text": [
      "True\n"
     ]
    }
   ],
   "source": [
    "g_a, g_b = get_grids(random_data.detach().numpy())\n",
    "g_a, g_b = torch.from_numpy(g_a).float(), torch.from_numpy(g_b).float()\n",
    "test = gradcheck(diff_grid_generator,(random_data, g_a, g_b), eps=1e-4, atol=1e-3, rtol=0.01) # Increase tolerance for floating point precision\n",
    "print(test)"
   ]
  },
  {
   "cell_type": "markdown",
   "metadata": {},
   "source": [
    "## Optimizing Coords"
   ]
  },
  {
   "cell_type": "code",
   "execution_count": 58,
   "metadata": {},
   "outputs": [
    {
     "name": "stdout",
     "output_type": "stream",
     "text": [
      "tensor(9.8478, grad_fn=<SumBackward0>)\n",
      "9.847839343937789\n"
     ]
    }
   ],
   "source": [
    "g_a, g_b = get_grids(coords)\n",
    "\n",
    "torch_coords = torch.from_numpy(coords).float()\n",
    "\n",
    "g_a, g_b = torch.from_numpy(g_a).float(), torch.from_numpy(g_b).float()\n",
    "\n",
    "torch_grid = diff_grid_generator(torch_coords, g_a, g_b)\n",
    "\n",
    "print(torch_grid.sum())\n",
    "print(out.sum())"
   ]
  },
  {
   "cell_type": "markdown",
   "metadata": {},
   "source": [
    "## Compare Differentiable and Original Grids"
   ]
  },
  {
   "cell_type": "code",
   "execution_count": 59,
   "metadata": {},
   "outputs": [
    {
     "data": {
      "text/plain": [
       "Text(0.5, 1.0, 'Origial Grid')"
      ]
     },
     "execution_count": 59,
     "metadata": {},
     "output_type": "execute_result"
    },
    {
     "data": {
      "image/png": "[encoded data removed]",
      "text/plain": [
       "<Figure size 1440x720 with 2 Axes>"
      ]
     },
     "metadata": {
      "needs_background": "light"
     },
     "output_type": "display_data"
    }
   ],
   "source": [
    "fig, (ax1, ax2) = plt.subplots(1, 2, figsize=(20,10))\n",
    "ax1.imshow(torch_grid.clone().detach().numpy())\n",
    "ax2.imshow(out)\n",
    "\n",
    "ax1.set_title('Differentiable Grid')\n",
    "ax2.set_title('Origial Grid')"
   ]
  },
  {
   "cell_type": "code",
   "execution_count": 60,
   "metadata": {},
   "outputs": [],
   "source": [
    "values = torch.from_numpy(out)\n",
    "torch_coords =  torch.tensor(total_coords,dtype=torch.float32,requires_grad=True)"
   ]
  },
  {
   "cell_type": "markdown",
   "metadata": {},
   "source": [
    "## Compare Starting Grid and Original Grid"
   ]
  },
  {
   "cell_type": "code",
   "execution_count": 62,
   "metadata": {},
   "outputs": [
    {
     "data": {
      "image/png": "[encoded data removed]",
      "text/plain": [
       "<Figure size 1440x720 with 2 Axes>"
      ]
     },
     "metadata": {
      "needs_background": "light"
     },
     "output_type": "display_data"
    }
   ],
   "source": [
    "with torch.no_grad():\n",
    "    agrid = diff_grid_generator(torch_coords, g_a, g_b)\n",
    "    fig, (ax1, ax2) = plt.subplots(1, 2, figsize=(20,10))\n",
    "    ax1.imshow(agrid.numpy()/ out.max())\n",
    "    ax2.imshow(out / out.max())\n",
    "    ax1.set_title('Grid from Coords')\n",
    "    ax2.set_title('Original Grid')"
   ]
  },
  {
   "cell_type": "code",
   "execution_count": 51,
   "metadata": {},
   "outputs": [],
   "source": [
    "optimizer = torch.optim.SGD([torch_coords], lr=0.01)"
   ]
  },
  {
   "cell_type": "code",
   "execution_count": 52,
   "metadata": {},
   "outputs": [
    {
     "name": "stdout",
     "output_type": "stream",
     "text": [
      "0.5450337529182434\n",
      "0.18316884338855743\n",
      "0.03009514883160591\n",
      "0.0049351891502738\n",
      "0.001132264849729836\n",
      "0.00027772350586019456\n",
      "6.858836422907189e-05\n",
      "1.6957477782852948e-05\n",
      "4.19647494709352e-06\n",
      "1.038629079630482e-06\n"
     ]
    }
   ],
   "source": [
    "updated_coords = [] \n",
    "updated_grids = []\n",
    "for i in range(10):\n",
    "    optimizer.zero_grad()\n",
    "    agrid = diff_grid_generator(torch_coords,g_a,g_b)       \n",
    "    loss = torch.square(agrid-values).sum().float()\n",
    "    loss.backward()\n",
    "\n",
    "    optimizer.step()\n",
    "\n",
    "    updated_grids.append(agrid.detach().numpy())\n",
    "\n",
    "    print(loss.item())\n",
    "    \n",
    "    updated_coords.append(torch_coords.clone().detach().numpy())"
   ]
  },
  {
   "cell_type": "code",
   "execution_count": 53,
   "metadata": {},
   "outputs": [
    {
     "data": {
      "text/plain": [
       "array([[-0.02508771, -0.01071936],\n",
       "       [-0.02158314, -0.01627524],\n",
       "       [-0.01895809, -0.01417136],\n",
       "       [-0.02119356, -0.01872265],\n",
       "       [-0.0049181 , -0.01584247],\n",
       "       [-0.02428609, -0.01871616],\n",
       "       [-0.01221257, -0.00433052],\n",
       "       [-0.0216471 , -0.01647484],\n",
       "       [-0.00591379, -0.0175786 ],\n",
       "       [-0.00817981, -0.01297098]], dtype=float32)"
      ]
     },
     "execution_count": 53,
     "metadata": {},
     "output_type": "execute_result"
    }
   ],
   "source": [
    "updated_coords[0] - updated_coords[-1]"
   ]
  },
  {
   "cell_type": "code",
   "execution_count": 54,
   "metadata": {},
   "outputs": [
    {
     "data": {
      "text/plain": [
       "Text(0.5, 1.0, 'After Optimization')"
      ]
     },
     "execution_count": 54,
     "metadata": {},
     "output_type": "execute_result"
    },
    {
     "data": {
      "image/png": "[encoded data removed]",
      "text/plain": [
       "<Figure size 1440x720 with 2 Axes>"
      ]
     },
     "metadata": {
      "needs_background": "light"
     },
     "output_type": "display_data"
    }
   ],
   "source": [
    "fig, (ax1, ax2) = plt.subplots(1, 2, figsize=(20,10))\n",
    "ax1.imshow(updated_grids[0])\n",
    "ax2.imshow(updated_grids[-1])\n",
    "ax1.set_title('Before Optimization')\n",
    "ax2.set_title('After Optimization')"
   ]
  },
  {
   "cell_type": "code",
   "execution_count": 55,
   "metadata": {},
   "outputs": [
    {
     "data": {
      "image/png": "[encoded data removed]",
      "text/plain": [
       "<Figure size 1440x720 with 2 Axes>"
      ]
     },
     "metadata": {
      "needs_background": "light"
     },
     "output_type": "display_data"
    }
   ],
   "source": [
    "with torch.no_grad():\n",
    "    agrid = diff_grid_generator(torch_coords,g_a,g_b)\n",
    "    fig, (ax1, ax2) = plt.subplots(1, 2, figsize=(20,10))\n",
    "    ax1.imshow(agrid)\n",
    "    ax2.imshow(out)\n",
    "    ax1.set_title('After Optimization')\n",
    "    ax2.set_title('Original')"
   ]
  },
  {
   "cell_type": "code",
   "execution_count": 56,
   "metadata": {},
   "outputs": [
    {
     "data": {
      "text/plain": [
       "<matplotlib.legend.Legend at 0x7fbcec7656d8>"
      ]
     },
     "execution_count": 56,
     "metadata": {},
     "output_type": "execute_result"
    },
    {
     "data": {
      "image/png": "[encoded data removed]",
      "text/plain": [
       "<Figure size 864x864 with 1 Axes>"
      ]
     },
     "metadata": {
      "needs_background": "light"
     },
     "output_type": "display_data"
    }
   ],
   "source": [
    "plt.figure(figsize=(12,12))\n",
    "plt.scatter(updated_coords[0][:,0]*32, updated_coords[0][:,1]*32,c='r', s=400, label='Initial')\n",
    "plt.scatter(updated_coords[-1][:,0]*32, updated_coords[-1][:,1]*32,c='b', s=400, label='Final')\n",
    "plt.scatter(coords[:,0]*32, coords[:,1]*32, c='g', s=200, label='Original')\n",
    "plt.legend()"
   ]
  },
  {
   "cell_type": "code",
   "execution_count": null,
   "metadata": {},
   "outputs": [],
   "source": []
  }
 ],
 "metadata": {
  "kernelspec": {
   "display_name": "Python 3",
   "language": "python",
   "name": "python3"
  },
  "language_info": {
   "codemirror_mode": {
    "name": "ipython",
    "version": 3
   },
   "file_extension": ".py",
   "mimetype": "text/x-python",
   "name": "python",
   "nbconvert_exporter": "python",
   "pygments_lexer": "ipython3",
   "version": "3.6.9"
  }
 },
 "nbformat": 4,
 "nbformat_minor": 5
}
