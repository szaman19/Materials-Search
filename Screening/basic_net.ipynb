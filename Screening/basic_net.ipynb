{
 "cells": [
  {
   "cell_type": "code",
   "execution_count": 1,
   "id": "2311c653-a223-46a2-b71a-fa391d075ebe",
   "metadata": {},
   "outputs": [],
   "source": [
    "import math\n",
    "\n",
    "import numpy as np\n",
    "import torch\n",
    "import torch.nn as nn \n",
    "import torch.nn.functional as F\n",
    "import torch.optim as optim\n",
    "from torch.utils.data import DataLoader, random_split\n",
    "\n",
    "from tqdm import tqdm\n",
    "\n",
    "import basic_net\n",
    "import dataset as MOFdata"
   ]
  },
  {
   "cell_type": "code",
   "execution_count": 2,
   "id": "c4c1fe68-68ec-4d23-bfb2-921fe0a3b47c",
   "metadata": {},
   "outputs": [
    {
     "name": "stdout",
     "output_type": "stream",
     "text": [
      "missed 1877\n",
      "float32\n"
     ]
    }
   ],
   "source": [
    "\n",
    "def filter_data(x):\n",
    "    a, b = -4000, 5000\n",
    "    mid = (a+b)/2\n",
    "    dif = b-a\n",
    "    return np.clip(x, a, b) / dif / 2 - (mid/dif)\n",
    "    # sigmoid\n",
    "    # return 1/(1 + np.exp(-np.clip(x, -32, 32)))\n",
    "\n",
    "grid = \"grids.npy\"\n",
    "link = \"grids.link\"\n",
    "csv = \"ASR.csv\"\n",
    "feature = \"LCD\"\n",
    "\n",
    "data = MOFdata.Dataset(grid, link, csv, feature, filter_data)\n",
    "train_set_size = int(.9 * len(data))\n",
    "validation_set_size = int(.05 * len(data))\n",
    "test_set_size = len(data) - train_set_size - validation_set_size\n",
    "train_set, validation_set, test_set = random_split(\n",
    "    dataset=data,\n",
    "    lengths=(train_set_size,\n",
    "    validation_set_size,\n",
    "    test_set_size),\n",
    "    generator=torch.Generator().manual_seed(42))\n",
    "print(data[0][0].dtype)\n",
    "train_loader = DataLoader(train_set, batch_size=64, shuffle=True)\n",
    "validation_loader = DataLoader(validation_set, batch_size=64, shuffle=True)\n",
    "test_loader = DataLoader(test_set, batch_size=64, shuffle=True)"
   ]
  },
  {
   "cell_type": "code",
   "execution_count": 3,
   "id": "004cc144-48c0-4e5a-acd7-0051bbed68f4",
   "metadata": {},
   "outputs": [
    {
     "name": "stdout",
     "output_type": "stream",
     "text": [
      "6.828535852311939 3.793682015771011 2.69488 71.64119\n"
     ]
    }
   ],
   "source": [
    "import statistics as stat\n",
    "\n",
    "lcd = [y for x, y in data]\n",
    "mean = stat.mean(lcd)\n",
    "sd = stat.stdev(lcd)\n",
    "\n",
    "print(mean, sd, min(lcd), max(lcd))"
   ]
  },
  {
   "cell_type": "code",
   "execution_count": 4,
   "id": "69068847-90a8-47f3-b902-7091c3867802",
   "metadata": {},
   "outputs": [],
   "source": [
    "model = basic_net.BasicModel().cuda()\n",
    "optimizer = optim.Adam(model.parameters())\n",
    "loss_fn = nn.MSELoss()"
   ]
  },
  {
   "cell_type": "code",
   "execution_count": 5,
   "id": "fc5be480-9418-4772-9f56-b62d3d73e1bf",
   "metadata": {},
   "outputs": [
    {
     "name": "stderr",
     "output_type": "stream",
     "text": [
      "Epoch 0: 100%|███████████████████████████████████████████████████| 143/143 [00:06<00:00, 20.65batch/s, avg_loss=6.18, loss=3.27, ratio=6.77, worst=21778.58]\n"
     ]
    },
    {
     "name": "stdout",
     "output_type": "stream",
     "text": [
      "1.1830968882171773 1.8067813203901435\n"
     ]
    },
    {
     "name": "stderr",
     "output_type": "stream",
     "text": [
      "Epoch 1: 100%|███████████████████████████████████████████████████████| 143/143 [00:05<00:00, 26.18batch/s, avg_loss=3.22, loss=1.34, ratio=1.18, worst=3.73]\n"
     ]
    },
    {
     "name": "stdout",
     "output_type": "stream",
     "text": [
      "1.1651309510386176 1.7617773654532112\n"
     ]
    },
    {
     "name": "stderr",
     "output_type": "stream",
     "text": [
      "Epoch 2: 100%|███████████████████████████████████████████████████████| 143/143 [00:05<00:00, 26.17batch/s, avg_loss=2.89, loss=0.85, ratio=1.17, worst=2.72]\n"
     ]
    },
    {
     "name": "stdout",
     "output_type": "stream",
     "text": [
      "1.159217346041969 1.8031492748533722\n"
     ]
    },
    {
     "name": "stderr",
     "output_type": "stream",
     "text": [
      "Epoch 3: 100%|███████████████████████████████████████████████████████| 143/143 [00:05<00:00, 26.28batch/s, avg_loss=2.45, loss=1.88, ratio=1.16, worst=3.05]\n"
     ]
    },
    {
     "name": "stdout",
     "output_type": "stream",
     "text": [
      "1.1509333353605469 1.7900309829024998\n"
     ]
    },
    {
     "name": "stderr",
     "output_type": "stream",
     "text": [
      "Epoch 4: 100%|███████████████████████████████████████████████████████| 143/143 [00:05<00:00, 26.40batch/s, avg_loss=1.77, loss=0.82, ratio=1.13, worst=2.36]\n"
     ]
    },
    {
     "name": "stdout",
     "output_type": "stream",
     "text": [
      "1.1358917040755625 1.6880176138220644\n"
     ]
    },
    {
     "name": "stderr",
     "output_type": "stream",
     "text": [
      "Epoch 5: 100%|███████████████████████████████████████████████████████| 143/143 [00:05<00:00, 27.71batch/s, avg_loss=1.55, loss=2.06, ratio=1.13, worst=2.75]\n"
     ]
    },
    {
     "name": "stdout",
     "output_type": "stream",
     "text": [
      "1.126264359590086 1.605186122525249\n"
     ]
    },
    {
     "name": "stderr",
     "output_type": "stream",
     "text": [
      "Epoch 6: 100%|███████████████████████████████████████████████████████| 143/143 [00:05<00:00, 28.05batch/s, avg_loss=1.48, loss=2.00, ratio=1.13, worst=2.51]\n"
     ]
    },
    {
     "name": "stdout",
     "output_type": "stream",
     "text": [
      "1.1194385828632263 1.7485745371947252\n"
     ]
    },
    {
     "name": "stderr",
     "output_type": "stream",
     "text": [
      "Epoch 7: 100%|███████████████████████████████████████████████████████| 143/143 [00:05<00:00, 28.15batch/s, avg_loss=1.35, loss=1.16, ratio=1.12, worst=2.27]\n"
     ]
    },
    {
     "name": "stdout",
     "output_type": "stream",
     "text": [
      "1.1277853680475984 1.5308261178467941\n"
     ]
    },
    {
     "name": "stderr",
     "output_type": "stream",
     "text": [
      "Epoch 8: 100%|███████████████████████████████████████████████████████| 143/143 [00:05<00:00, 28.48batch/s, avg_loss=0.95, loss=0.49, ratio=1.11, worst=2.00]\n"
     ]
    },
    {
     "name": "stdout",
     "output_type": "stream",
     "text": [
      "1.1113276944631982 1.6528360122813104\n"
     ]
    },
    {
     "name": "stderr",
     "output_type": "stream",
     "text": [
      "Epoch 9: 100%|███████████████████████████████████████████████████████| 143/143 [00:05<00:00, 28.47batch/s, avg_loss=1.02, loss=0.46, ratio=1.11, worst=2.34]\n"
     ]
    },
    {
     "name": "stdout",
     "output_type": "stream",
     "text": [
      "1.1008387789608598 1.5202449211496079\n"
     ]
    },
    {
     "name": "stderr",
     "output_type": "stream",
     "text": [
      "Epoch 10: 100%|██████████████████████████████████████████████████████| 143/143 [00:05<00:00, 28.51batch/s, avg_loss=0.94, loss=1.26, ratio=1.11, worst=1.95]\n"
     ]
    },
    {
     "name": "stdout",
     "output_type": "stream",
     "text": [
      "1.1126062949249782 1.611479874682599\n"
     ]
    },
    {
     "name": "stderr",
     "output_type": "stream",
     "text": [
      "Epoch 11: 100%|██████████████████████████████████████████████████████| 143/143 [00:05<00:00, 28.35batch/s, avg_loss=0.86, loss=0.83, ratio=1.11, worst=1.70]\n"
     ]
    },
    {
     "name": "stdout",
     "output_type": "stream",
     "text": [
      "1.1296255540812974 1.5436630975974834\n"
     ]
    },
    {
     "name": "stderr",
     "output_type": "stream",
     "text": [
      "Epoch 12: 100%|██████████████████████████████████████████████████████| 143/143 [00:05<00:00, 28.42batch/s, avg_loss=0.74, loss=0.63, ratio=1.10, worst=1.93]\n"
     ]
    },
    {
     "name": "stdout",
     "output_type": "stream",
     "text": [
      "1.0966313481704173 1.5422210325411587\n"
     ]
    },
    {
     "name": "stderr",
     "output_type": "stream",
     "text": [
      "Epoch 13: 100%|██████████████████████████████████████████████████████| 143/143 [00:05<00:00, 28.55batch/s, avg_loss=0.69, loss=0.89, ratio=1.09, worst=1.90]\n"
     ]
    },
    {
     "name": "stdout",
     "output_type": "stream",
     "text": [
      "1.157594655431079 1.7732725862656753\n"
     ]
    },
    {
     "name": "stderr",
     "output_type": "stream",
     "text": [
      "Epoch 14: 100%|██████████████████████████████████████████████████████| 143/143 [00:05<00:00, 28.52batch/s, avg_loss=0.83, loss=0.55, ratio=1.10, worst=1.78]\n"
     ]
    },
    {
     "name": "stdout",
     "output_type": "stream",
     "text": [
      "1.099394905471948 1.5141803965831149\n"
     ]
    },
    {
     "name": "stderr",
     "output_type": "stream",
     "text": [
      "Epoch 15: 100%|██████████████████████████████████████████████████████| 143/143 [00:05<00:00, 28.42batch/s, avg_loss=0.62, loss=0.43, ratio=1.09, worst=1.75]\n"
     ]
    },
    {
     "name": "stdout",
     "output_type": "stream",
     "text": [
      "1.1056942132269885 1.460101705147043\n"
     ]
    },
    {
     "name": "stderr",
     "output_type": "stream",
     "text": [
      "Epoch 16: 100%|██████████████████████████████████████████████████████| 143/143 [00:05<00:00, 28.55batch/s, avg_loss=0.49, loss=0.33, ratio=1.08, worst=1.67]\n"
     ]
    },
    {
     "name": "stdout",
     "output_type": "stream",
     "text": [
      "1.0828077630332047 1.4795315391643993\n"
     ]
    },
    {
     "name": "stderr",
     "output_type": "stream",
     "text": [
      "Epoch 17: 100%|██████████████████████████████████████████████████████| 143/143 [00:05<00:00, 28.54batch/s, avg_loss=0.57, loss=0.14, ratio=1.09, worst=1.72]\n"
     ]
    },
    {
     "name": "stdout",
     "output_type": "stream",
     "text": [
      "1.085656800765444 1.457938056096857\n"
     ]
    },
    {
     "name": "stderr",
     "output_type": "stream",
     "text": [
      "Epoch 18: 100%|██████████████████████████████████████████████████████| 143/143 [00:05<00:00, 28.45batch/s, avg_loss=0.65, loss=0.53, ratio=1.09, worst=1.80]\n"
     ]
    },
    {
     "name": "stdout",
     "output_type": "stream",
     "text": [
      "1.0881907932146635 1.47610277683529\n"
     ]
    },
    {
     "name": "stderr",
     "output_type": "stream",
     "text": [
      "Epoch 19: 100%|██████████████████████████████████████████████████████| 143/143 [00:05<00:00, 28.52batch/s, avg_loss=0.55, loss=0.53, ratio=1.08, worst=1.70]\n"
     ]
    },
    {
     "name": "stdout",
     "output_type": "stream",
     "text": [
      "1.085095828986806 1.4354477703626065\n"
     ]
    },
    {
     "name": "stderr",
     "output_type": "stream",
     "text": [
      "Epoch 20: 100%|██████████████████████████████████████████████████████| 143/143 [00:04<00:00, 28.63batch/s, avg_loss=0.43, loss=0.34, ratio=1.08, worst=1.72]\n"
     ]
    },
    {
     "name": "stdout",
     "output_type": "stream",
     "text": [
      "1.0818836794715805 1.472667899599019\n"
     ]
    },
    {
     "name": "stderr",
     "output_type": "stream",
     "text": [
      "Epoch 21: 100%|██████████████████████████████████████████████████████| 143/143 [00:04<00:00, 28.63batch/s, avg_loss=0.47, loss=0.43, ratio=1.08, worst=2.02]\n"
     ]
    },
    {
     "name": "stdout",
     "output_type": "stream",
     "text": [
      "1.081793205474505 1.4904883653001693\n"
     ]
    },
    {
     "name": "stderr",
     "output_type": "stream",
     "text": [
      "Epoch 22: 100%|██████████████████████████████████████████████████████| 143/143 [00:05<00:00, 28.49batch/s, avg_loss=0.36, loss=0.23, ratio=1.07, worst=1.67]\n"
     ]
    },
    {
     "name": "stdout",
     "output_type": "stream",
     "text": [
      "1.0816200913754663 1.4416622773280883\n"
     ]
    },
    {
     "name": "stderr",
     "output_type": "stream",
     "text": [
      "Epoch 23: 100%|██████████████████████████████████████████████████████| 143/143 [00:05<00:00, 28.54batch/s, avg_loss=0.39, loss=3.59, ratio=1.07, worst=1.61]\n"
     ]
    },
    {
     "name": "stdout",
     "output_type": "stream",
     "text": [
      "1.0953559277366014 1.5838819564157558\n"
     ]
    },
    {
     "name": "stderr",
     "output_type": "stream",
     "text": [
      "Epoch 24: 100%|██████████████████████████████████████████████████████| 143/143 [00:04<00:00, 28.65batch/s, avg_loss=0.64, loss=0.50, ratio=1.09, worst=1.66]\n"
     ]
    },
    {
     "name": "stdout",
     "output_type": "stream",
     "text": [
      "1.0931997551106547 1.543231476945305\n"
     ]
    },
    {
     "name": "stderr",
     "output_type": "stream",
     "text": [
      "Epoch 25: 100%|██████████████████████████████████████████████████████| 143/143 [00:04<00:00, 28.65batch/s, avg_loss=0.48, loss=0.52, ratio=1.08, worst=1.73]\n"
     ]
    },
    {
     "name": "stdout",
     "output_type": "stream",
     "text": [
      "1.088534584253877 1.446748745008859\n"
     ]
    },
    {
     "name": "stderr",
     "output_type": "stream",
     "text": [
      "Epoch 26: 100%|██████████████████████████████████████████████████████| 143/143 [00:05<00:00, 27.78batch/s, avg_loss=0.51, loss=0.23, ratio=1.08, worst=1.65]\n"
     ]
    },
    {
     "name": "stdout",
     "output_type": "stream",
     "text": [
      "1.0820547838679895 1.4587235325793766\n"
     ]
    },
    {
     "name": "stderr",
     "output_type": "stream",
     "text": [
      "Epoch 27: 100%|██████████████████████████████████████████████████████| 143/143 [00:05<00:00, 28.55batch/s, avg_loss=0.44, loss=1.13, ratio=1.07, worst=1.56]\n"
     ]
    },
    {
     "name": "stdout",
     "output_type": "stream",
     "text": [
      "1.1028799850357507 1.5161469314768286\n"
     ]
    },
    {
     "name": "stderr",
     "output_type": "stream",
     "text": [
      "Epoch 28: 100%|██████████████████████████████████████████████████████| 143/143 [00:05<00:00, 27.78batch/s, avg_loss=0.40, loss=0.26, ratio=1.07, worst=1.70]\n"
     ]
    },
    {
     "name": "stdout",
     "output_type": "stream",
     "text": [
      "1.0820848185559597 1.5769949038513258\n"
     ]
    },
    {
     "name": "stderr",
     "output_type": "stream",
     "text": [
      "Epoch 29: 100%|██████████████████████████████████████████████████████| 143/143 [00:05<00:00, 28.58batch/s, avg_loss=0.50, loss=0.46, ratio=1.08, worst=1.61]\n"
     ]
    },
    {
     "name": "stdout",
     "output_type": "stream",
     "text": [
      "1.0815078864756245 1.4289411127047527\n"
     ]
    },
    {
     "name": "stderr",
     "output_type": "stream",
     "text": [
      "Epoch 30: 100%|██████████████████████████████████████████████████████| 143/143 [00:05<00:00, 28.37batch/s, avg_loss=0.52, loss=0.44, ratio=1.08, worst=1.74]\n"
     ]
    },
    {
     "name": "stdout",
     "output_type": "stream",
     "text": [
      "1.0813799101658397 1.609011389622791\n"
     ]
    },
    {
     "name": "stderr",
     "output_type": "stream",
     "text": [
      "Epoch 31: 100%|██████████████████████████████████████████████████████| 143/143 [00:04<00:00, 28.63batch/s, avg_loss=0.31, loss=0.16, ratio=1.06, worst=1.55]\n"
     ]
    },
    {
     "name": "stdout",
     "output_type": "stream",
     "text": [
      "1.0727712284123432 1.5219656281392557\n"
     ]
    },
    {
     "name": "stderr",
     "output_type": "stream",
     "text": [
      "Epoch 32: 100%|██████████████████████████████████████████████████████| 143/143 [00:04<00:00, 28.61batch/s, avg_loss=0.32, loss=0.30, ratio=1.07, worst=1.69]\n"
     ]
    },
    {
     "name": "stdout",
     "output_type": "stream",
     "text": [
      "1.0762400309636204 1.4910658662532277\n"
     ]
    },
    {
     "name": "stderr",
     "output_type": "stream",
     "text": [
      "Epoch 33: 100%|██████████████████████████████████████████████████████| 143/143 [00:05<00:00, 28.52batch/s, avg_loss=0.26, loss=0.27, ratio=1.06, worst=1.61]\n"
     ]
    },
    {
     "name": "stdout",
     "output_type": "stream",
     "text": [
      "1.0740890868649986 1.4278370568550705\n"
     ]
    },
    {
     "name": "stderr",
     "output_type": "stream",
     "text": [
      "Epoch 34: 100%|██████████████████████████████████████████████████████| 143/143 [00:05<00:00, 28.60batch/s, avg_loss=0.31, loss=0.30, ratio=1.06, worst=1.45]\n"
     ]
    },
    {
     "name": "stdout",
     "output_type": "stream",
     "text": [
      "1.0770920876525714 1.4204291859672153\n"
     ]
    },
    {
     "name": "stderr",
     "output_type": "stream",
     "text": [
      "Epoch 35: 100%|██████████████████████████████████████████████████████| 143/143 [00:04<00:00, 28.66batch/s, avg_loss=0.32, loss=0.29, ratio=1.06, worst=1.50]\n"
     ]
    },
    {
     "name": "stdout",
     "output_type": "stream",
     "text": [
      "1.0799782873289256 1.4439251927451315\n"
     ]
    },
    {
     "name": "stderr",
     "output_type": "stream",
     "text": [
      "Epoch 36: 100%|██████████████████████████████████████████████████████| 143/143 [00:04<00:00, 28.68batch/s, avg_loss=0.26, loss=0.23, ratio=1.06, worst=1.45]\n"
     ]
    },
    {
     "name": "stdout",
     "output_type": "stream",
     "text": [
      "1.0703582616610479 1.4001875219420865\n"
     ]
    },
    {
     "name": "stderr",
     "output_type": "stream",
     "text": [
      "Epoch 37: 100%|██████████████████████████████████████████████████████| 143/143 [00:04<00:00, 28.75batch/s, avg_loss=0.33, loss=0.29, ratio=1.06, worst=1.49]\n"
     ]
    },
    {
     "name": "stdout",
     "output_type": "stream",
     "text": [
      "1.0736338252003677 1.4417042796496764\n"
     ]
    },
    {
     "name": "stderr",
     "output_type": "stream",
     "text": [
      "Epoch 38: 100%|██████████████████████████████████████████████████████| 143/143 [00:05<00:00, 28.54batch/s, avg_loss=0.40, loss=0.20, ratio=1.07, worst=1.52]\n"
     ]
    },
    {
     "name": "stdout",
     "output_type": "stream",
     "text": [
      "1.101967881201346 1.595198823396951\n"
     ]
    },
    {
     "name": "stderr",
     "output_type": "stream",
     "text": [
      "Epoch 39: 100%|██████████████████████████████████████████████████████| 143/143 [00:05<00:00, 28.34batch/s, avg_loss=0.31, loss=0.16, ratio=1.06, worst=1.41]\n"
     ]
    },
    {
     "name": "stdout",
     "output_type": "stream",
     "text": [
      "1.0719628294135772 1.437767057236162\n"
     ]
    },
    {
     "name": "stderr",
     "output_type": "stream",
     "text": [
      "Epoch 40: 100%|██████████████████████████████████████████████████████| 143/143 [00:04<00:00, 28.72batch/s, avg_loss=0.25, loss=1.11, ratio=1.06, worst=1.56]\n"
     ]
    },
    {
     "name": "stdout",
     "output_type": "stream",
     "text": [
      "1.1033708045883306 1.5238072392036768\n"
     ]
    },
    {
     "name": "stderr",
     "output_type": "stream",
     "text": [
      "Epoch 41: 100%|██████████████████████████████████████████████████████| 143/143 [00:05<00:00, 28.57batch/s, avg_loss=0.29, loss=0.18, ratio=1.06, worst=1.53]\n"
     ]
    },
    {
     "name": "stdout",
     "output_type": "stream",
     "text": [
      "1.0725060161193338 1.49359685455315\n"
     ]
    },
    {
     "name": "stderr",
     "output_type": "stream",
     "text": [
      "Epoch 42: 100%|██████████████████████████████████████████████████████| 143/143 [00:05<00:00, 28.48batch/s, avg_loss=0.22, loss=0.15, ratio=1.06, worst=1.43]\n"
     ]
    },
    {
     "name": "stdout",
     "output_type": "stream",
     "text": [
      "1.0738103894771382 1.5032960611298953\n"
     ]
    },
    {
     "name": "stderr",
     "output_type": "stream",
     "text": [
      "Epoch 43: 100%|██████████████████████████████████████████████████████| 143/143 [00:05<00:00, 28.46batch/s, avg_loss=0.21, loss=0.21, ratio=1.05, worst=1.45]\n"
     ]
    },
    {
     "name": "stdout",
     "output_type": "stream",
     "text": [
      "1.0702041110069433 1.5240784860504206\n"
     ]
    },
    {
     "name": "stderr",
     "output_type": "stream",
     "text": [
      "Epoch 44: 100%|██████████████████████████████████████████████████████| 143/143 [00:05<00:00, 28.59batch/s, avg_loss=0.37, loss=0.28, ratio=1.06, worst=1.79]\n"
     ]
    },
    {
     "name": "stdout",
     "output_type": "stream",
     "text": [
      "1.084008422911958 1.4653679314593355\n"
     ]
    },
    {
     "name": "stderr",
     "output_type": "stream",
     "text": [
      "Epoch 45: 100%|██████████████████████████████████████████████████████| 143/143 [00:04<00:00, 28.68batch/s, avg_loss=0.54, loss=0.22, ratio=1.07, worst=1.68]\n"
     ]
    },
    {
     "name": "stdout",
     "output_type": "stream",
     "text": [
      "1.0723796717858383 1.3929375852588095\n"
     ]
    },
    {
     "name": "stderr",
     "output_type": "stream",
     "text": [
      "Epoch 46: 100%|██████████████████████████████████████████████████████| 143/143 [00:04<00:00, 28.60batch/s, avg_loss=0.26, loss=0.24, ratio=1.06, worst=1.51]\n"
     ]
    },
    {
     "name": "stdout",
     "output_type": "stream",
     "text": [
      "1.0733043248980334 1.3977690950272663\n"
     ]
    },
    {
     "name": "stderr",
     "output_type": "stream",
     "text": [
      "Epoch 47: 100%|██████████████████████████████████████████████████████| 143/143 [00:04<00:00, 28.71batch/s, avg_loss=0.32, loss=0.14, ratio=1.06, worst=1.60]\n"
     ]
    },
    {
     "name": "stdout",
     "output_type": "stream",
     "text": [
      "1.0701850341764072 1.4533412610275112\n"
     ]
    },
    {
     "name": "stderr",
     "output_type": "stream",
     "text": [
      "Epoch 48: 100%|██████████████████████████████████████████████████████| 143/143 [00:04<00:00, 28.67batch/s, avg_loss=0.29, loss=0.18, ratio=1.06, worst=1.38]\n"
     ]
    },
    {
     "name": "stdout",
     "output_type": "stream",
     "text": [
      "1.0730222904923465 1.4437369898588146\n"
     ]
    },
    {
     "name": "stderr",
     "output_type": "stream",
     "text": [
      "Epoch 49: 100%|██████████████████████████████████████████████████████| 143/143 [00:04<00:00, 28.65batch/s, avg_loss=0.28, loss=0.19, ratio=1.06, worst=1.41]\n"
     ]
    },
    {
     "name": "stdout",
     "output_type": "stream",
     "text": [
      "1.0756440827596119 1.422976511425602\n"
     ]
    },
    {
     "name": "stderr",
     "output_type": "stream",
     "text": [
      "Epoch 50: 100%|██████████████████████████████████████████████████████| 143/143 [00:04<00:00, 28.68batch/s, avg_loss=0.22, loss=0.14, ratio=1.05, worst=1.46]\n"
     ]
    },
    {
     "name": "stdout",
     "output_type": "stream",
     "text": [
      "1.0686211400481516 1.3686102383218441\n"
     ]
    },
    {
     "name": "stderr",
     "output_type": "stream",
     "text": [
      "Epoch 51: 100%|██████████████████████████████████████████████████████| 143/143 [00:05<00:00, 28.57batch/s, avg_loss=0.35, loss=0.15, ratio=1.06, worst=1.50]\n"
     ]
    },
    {
     "name": "stdout",
     "output_type": "stream",
     "text": [
      "1.0726676767025665 1.3681044267200664\n"
     ]
    },
    {
     "name": "stderr",
     "output_type": "stream",
     "text": [
      "Epoch 52: 100%|██████████████████████████████████████████████████████| 143/143 [00:05<00:00, 28.48batch/s, avg_loss=0.28, loss=0.47, ratio=1.06, worst=1.54]\n"
     ]
    },
    {
     "name": "stdout",
     "output_type": "stream",
     "text": [
      "1.0773804104947144 1.4886386089413122\n"
     ]
    },
    {
     "name": "stderr",
     "output_type": "stream",
     "text": [
      "Epoch 53: 100%|██████████████████████████████████████████████████████| 143/143 [00:04<00:00, 28.61batch/s, avg_loss=0.29, loss=0.22, ratio=1.06, worst=1.53]\n"
     ]
    },
    {
     "name": "stdout",
     "output_type": "stream",
     "text": [
      "1.067078660525447 1.4344694846510224\n"
     ]
    },
    {
     "name": "stderr",
     "output_type": "stream",
     "text": [
      "Epoch 54: 100%|██████████████████████████████████████████████████████| 143/143 [00:05<00:00, 28.52batch/s, avg_loss=0.32, loss=0.22, ratio=1.06, worst=1.72]\n"
     ]
    },
    {
     "name": "stdout",
     "output_type": "stream",
     "text": [
      "1.0712585433259272 1.4051032219533248\n"
     ]
    },
    {
     "name": "stderr",
     "output_type": "stream",
     "text": [
      "Epoch 55: 100%|██████████████████████████████████████████████████████| 143/143 [00:05<00:00, 28.49batch/s, avg_loss=0.37, loss=0.20, ratio=1.06, worst=1.48]\n"
     ]
    },
    {
     "name": "stdout",
     "output_type": "stream",
     "text": [
      "1.0709449330228709 1.4696765176699067\n"
     ]
    },
    {
     "name": "stderr",
     "output_type": "stream",
     "text": [
      "Epoch 56: 100%|██████████████████████████████████████████████████████| 143/143 [00:05<00:00, 28.48batch/s, avg_loss=0.23, loss=0.22, ratio=1.06, worst=1.61]\n"
     ]
    },
    {
     "name": "stdout",
     "output_type": "stream",
     "text": [
      "1.0698154293087605 1.4473711399347147\n"
     ]
    },
    {
     "name": "stderr",
     "output_type": "stream",
     "text": [
      "Epoch 57: 100%|██████████████████████████████████████████████████████| 143/143 [00:05<00:00, 26.98batch/s, avg_loss=0.26, loss=0.09, ratio=1.06, worst=1.55]\n"
     ]
    },
    {
     "name": "stdout",
     "output_type": "stream",
     "text": [
      "1.0708457437741123 1.4265474158356597\n"
     ]
    },
    {
     "name": "stderr",
     "output_type": "stream",
     "text": [
      "Epoch 58: 100%|██████████████████████████████████████████████████████| 143/143 [00:05<00:00, 27.23batch/s, avg_loss=0.24, loss=0.17, ratio=1.05, worst=1.49]\n"
     ]
    },
    {
     "name": "stdout",
     "output_type": "stream",
     "text": [
      "1.070955439876663 1.4928385998558975\n"
     ]
    },
    {
     "name": "stderr",
     "output_type": "stream",
     "text": [
      "Epoch 59: 100%|██████████████████████████████████████████████████████| 143/143 [00:05<00:00, 28.56batch/s, avg_loss=0.24, loss=0.07, ratio=1.05, worst=1.38]\n"
     ]
    },
    {
     "name": "stdout",
     "output_type": "stream",
     "text": [
      "1.0649327979070404 1.4151190668913571\n"
     ]
    },
    {
     "name": "stderr",
     "output_type": "stream",
     "text": [
      "Epoch 60: 100%|██████████████████████████████████████████████████████| 143/143 [00:04<00:00, 28.69batch/s, avg_loss=0.17, loss=0.28, ratio=1.05, worst=1.41]\n"
     ]
    },
    {
     "name": "stdout",
     "output_type": "stream",
     "text": [
      "1.0686184111318517 1.4250398390694596\n"
     ]
    },
    {
     "name": "stderr",
     "output_type": "stream",
     "text": [
      "Epoch 61: 100%|██████████████████████████████████████████████████████| 143/143 [00:05<00:00, 28.56batch/s, avg_loss=0.19, loss=0.23, ratio=1.05, worst=1.51]\n"
     ]
    },
    {
     "name": "stdout",
     "output_type": "stream",
     "text": [
      "1.0659629775353918 1.3848836626202754\n"
     ]
    },
    {
     "name": "stderr",
     "output_type": "stream",
     "text": [
      "Epoch 62: 100%|██████████████████████████████████████████████████████| 143/143 [00:04<00:00, 28.67batch/s, avg_loss=0.20, loss=0.17, ratio=1.05, worst=1.50]\n"
     ]
    },
    {
     "name": "stdout",
     "output_type": "stream",
     "text": [
      "1.0681614727757673 1.4179704993461566\n"
     ]
    },
    {
     "name": "stderr",
     "output_type": "stream",
     "text": [
      "Epoch 63: 100%|██████████████████████████████████████████████████████| 143/143 [00:05<00:00, 28.35batch/s, avg_loss=0.19, loss=0.34, ratio=1.05, worst=1.37]\n"
     ]
    },
    {
     "name": "stdout",
     "output_type": "stream",
     "text": [
      "1.0751502518573273 1.4686220109735248\n"
     ]
    },
    {
     "name": "stderr",
     "output_type": "stream",
     "text": [
      "Epoch 64: 100%|██████████████████████████████████████████████████████| 143/143 [00:05<00:00, 28.51batch/s, avg_loss=0.29, loss=0.18, ratio=1.06, worst=1.46]\n"
     ]
    },
    {
     "name": "stdout",
     "output_type": "stream",
     "text": [
      "1.0764523629664458 1.4986313855690518\n"
     ]
    },
    {
     "name": "stderr",
     "output_type": "stream",
     "text": [
      "Epoch 65: 100%|██████████████████████████████████████████████████████| 143/143 [00:05<00:00, 28.52batch/s, avg_loss=0.33, loss=0.43, ratio=1.06, worst=1.85]\n"
     ]
    },
    {
     "name": "stdout",
     "output_type": "stream",
     "text": [
      "1.080490004593925 1.5600782236832451\n"
     ]
    },
    {
     "name": "stderr",
     "output_type": "stream",
     "text": [
      "Epoch 66: 100%|██████████████████████████████████████████████████████| 143/143 [00:04<00:00, 28.65batch/s, avg_loss=0.39, loss=0.22, ratio=1.06, worst=1.61]\n"
     ]
    },
    {
     "name": "stdout",
     "output_type": "stream",
     "text": [
      "1.0753045661652105 1.3870933553415852\n"
     ]
    },
    {
     "name": "stderr",
     "output_type": "stream",
     "text": [
      "Epoch 67: 100%|██████████████████████████████████████████████████████| 143/143 [00:04<00:00, 28.69batch/s, avg_loss=0.16, loss=0.12, ratio=1.05, worst=1.36]\n"
     ]
    },
    {
     "name": "stdout",
     "output_type": "stream",
     "text": [
      "1.0660116661030614 1.3875038687406667\n"
     ]
    },
    {
     "name": "stderr",
     "output_type": "stream",
     "text": [
      "Epoch 68: 100%|██████████████████████████████████████████████████████| 143/143 [00:04<00:00, 28.65batch/s, avg_loss=0.14, loss=0.14, ratio=1.04, worst=1.41]\n"
     ]
    },
    {
     "name": "stdout",
     "output_type": "stream",
     "text": [
      "1.0654016388321619 1.4319940106435043\n"
     ]
    },
    {
     "name": "stderr",
     "output_type": "stream",
     "text": [
      "Epoch 69: 100%|██████████████████████████████████████████████████████| 143/143 [00:04<00:00, 28.70batch/s, avg_loss=0.20, loss=0.08, ratio=1.05, worst=1.44]\n"
     ]
    },
    {
     "name": "stdout",
     "output_type": "stream",
     "text": [
      "1.064436169607432 1.4321787358774438\n"
     ]
    },
    {
     "name": "stderr",
     "output_type": "stream",
     "text": [
      "Epoch 70: 100%|██████████████████████████████████████████████████████| 143/143 [00:04<00:00, 28.88batch/s, avg_loss=0.13, loss=0.12, ratio=1.04, worst=1.39]\n"
     ]
    },
    {
     "name": "stdout",
     "output_type": "stream",
     "text": [
      "1.0675327669610157 1.4673612085920968\n"
     ]
    },
    {
     "name": "stderr",
     "output_type": "stream",
     "text": [
      "Epoch 71: 100%|██████████████████████████████████████████████████████| 143/143 [00:04<00:00, 28.61batch/s, avg_loss=0.12, loss=0.14, ratio=1.04, worst=1.52]\n"
     ]
    },
    {
     "name": "stdout",
     "output_type": "stream",
     "text": [
      "1.0629629174043513 1.4550136719248168\n"
     ]
    },
    {
     "name": "stderr",
     "output_type": "stream",
     "text": [
      "Epoch 72: 100%|██████████████████████████████████████████████████████| 143/143 [00:04<00:00, 28.66batch/s, avg_loss=0.18, loss=0.10, ratio=1.05, worst=1.36]\n"
     ]
    },
    {
     "name": "stdout",
     "output_type": "stream",
     "text": [
      "1.069399088188258 1.4978318061309077\n"
     ]
    },
    {
     "name": "stderr",
     "output_type": "stream",
     "text": [
      "Epoch 73: 100%|██████████████████████████████████████████████████████| 143/143 [00:04<00:00, 29.18batch/s, avg_loss=0.16, loss=0.72, ratio=1.04, worst=1.44]\n"
     ]
    },
    {
     "name": "stdout",
     "output_type": "stream",
     "text": [
      "1.1009402764258325 1.5679303891339404\n"
     ]
    },
    {
     "name": "stderr",
     "output_type": "stream",
     "text": [
      "Epoch 74: 100%|██████████████████████████████████████████████████████| 143/143 [00:05<00:00, 27.75batch/s, avg_loss=0.22, loss=0.11, ratio=1.05, worst=1.44]\n"
     ]
    },
    {
     "name": "stdout",
     "output_type": "stream",
     "text": [
      "1.0733944734758485 1.6180076524452147\n"
     ]
    },
    {
     "name": "stderr",
     "output_type": "stream",
     "text": [
      "Epoch 75: 100%|██████████████████████████████████████████████████████| 143/143 [00:04<00:00, 28.69batch/s, avg_loss=0.16, loss=0.11, ratio=1.05, worst=1.35]\n"
     ]
    },
    {
     "name": "stdout",
     "output_type": "stream",
     "text": [
      "1.066515863362363 1.3913561984653424\n"
     ]
    },
    {
     "name": "stderr",
     "output_type": "stream",
     "text": [
      "Epoch 76: 100%|██████████████████████████████████████████████████████| 143/143 [00:04<00:00, 28.72batch/s, avg_loss=0.21, loss=0.29, ratio=1.05, worst=1.42]\n"
     ]
    },
    {
     "name": "stdout",
     "output_type": "stream",
     "text": [
      "1.0739195497364602 1.4939340982275315\n"
     ]
    },
    {
     "name": "stderr",
     "output_type": "stream",
     "text": [
      "Epoch 77: 100%|██████████████████████████████████████████████████████| 143/143 [00:04<00:00, 28.65batch/s, avg_loss=0.20, loss=0.24, ratio=1.05, worst=1.49]\n"
     ]
    },
    {
     "name": "stdout",
     "output_type": "stream",
     "text": [
      "1.0704559270853906 1.4904861966023182\n"
     ]
    },
    {
     "name": "stderr",
     "output_type": "stream",
     "text": [
      "Epoch 78: 100%|██████████████████████████████████████████████████████| 143/143 [00:05<00:00, 28.55batch/s, avg_loss=0.18, loss=0.26, ratio=1.05, worst=1.33]\n"
     ]
    },
    {
     "name": "stdout",
     "output_type": "stream",
     "text": [
      "1.0711606437038235 1.4246617086629714\n"
     ]
    },
    {
     "name": "stderr",
     "output_type": "stream",
     "text": [
      "Epoch 79: 100%|██████████████████████████████████████████████████████| 143/143 [00:04<00:00, 28.67batch/s, avg_loss=0.14, loss=0.10, ratio=1.04, worst=1.39]\n"
     ]
    },
    {
     "name": "stdout",
     "output_type": "stream",
     "text": [
      "1.0654976341324056 1.4390567170773332\n"
     ]
    },
    {
     "name": "stderr",
     "output_type": "stream",
     "text": [
      "Epoch 80: 100%|██████████████████████████████████████████████████████| 143/143 [00:04<00:00, 28.70batch/s, avg_loss=0.13, loss=0.09, ratio=1.04, worst=1.38]\n"
     ]
    },
    {
     "name": "stdout",
     "output_type": "stream",
     "text": [
      "1.0648185736478823 1.4114357527334234\n"
     ]
    },
    {
     "name": "stderr",
     "output_type": "stream",
     "text": [
      "Epoch 81: 100%|██████████████████████████████████████████████████████| 143/143 [00:04<00:00, 28.77batch/s, avg_loss=0.11, loss=0.09, ratio=1.04, worst=1.33]\n"
     ]
    },
    {
     "name": "stdout",
     "output_type": "stream",
     "text": [
      "1.0742217499482685 1.4417915264471857\n"
     ]
    },
    {
     "name": "stderr",
     "output_type": "stream",
     "text": [
      "Epoch 82: 100%|██████████████████████████████████████████████████████| 143/143 [00:05<00:00, 27.81batch/s, avg_loss=0.12, loss=0.11, ratio=1.04, worst=1.32]\n"
     ]
    },
    {
     "name": "stdout",
     "output_type": "stream",
     "text": [
      "1.0666973749399506 1.4751634393953448\n"
     ]
    },
    {
     "name": "stderr",
     "output_type": "stream",
     "text": [
      "Epoch 83: 100%|██████████████████████████████████████████████████████| 143/143 [00:05<00:00, 27.99batch/s, avg_loss=0.13, loss=0.12, ratio=1.04, worst=1.37]\n"
     ]
    },
    {
     "name": "stdout",
     "output_type": "stream",
     "text": [
      "1.0665253891736801 1.4543770488509327\n"
     ]
    },
    {
     "name": "stderr",
     "output_type": "stream",
     "text": [
      "Epoch 84: 100%|██████████████████████████████████████████████████████| 143/143 [00:04<00:00, 28.67batch/s, avg_loss=0.23, loss=0.65, ratio=1.05, worst=1.45]\n"
     ]
    },
    {
     "name": "stdout",
     "output_type": "stream",
     "text": [
      "1.1156456384819295 1.6962897352088648\n"
     ]
    },
    {
     "name": "stderr",
     "output_type": "stream",
     "text": [
      "Epoch 85: 100%|██████████████████████████████████████████████████████| 143/143 [00:04<00:00, 28.62batch/s, avg_loss=0.30, loss=0.60, ratio=1.06, worst=1.72]\n"
     ]
    },
    {
     "name": "stdout",
     "output_type": "stream",
     "text": [
      "1.074872501726311 1.5731163150513856\n"
     ]
    },
    {
     "name": "stderr",
     "output_type": "stream",
     "text": [
      "Epoch 86: 100%|██████████████████████████████████████████████████████| 143/143 [00:05<00:00, 28.51batch/s, avg_loss=0.16, loss=0.12, ratio=1.04, worst=1.36]\n"
     ]
    },
    {
     "name": "stdout",
     "output_type": "stream",
     "text": [
      "1.070670057653255 1.4833056849734356\n"
     ]
    },
    {
     "name": "stderr",
     "output_type": "stream",
     "text": [
      "Epoch 87: 100%|██████████████████████████████████████████████████████| 143/143 [00:05<00:00, 28.28batch/s, avg_loss=0.22, loss=0.19, ratio=1.05, worst=1.65]\n"
     ]
    },
    {
     "name": "stdout",
     "output_type": "stream",
     "text": [
      "1.066729410660894 1.4275449342796596\n"
     ]
    },
    {
     "name": "stderr",
     "output_type": "stream",
     "text": [
      "Epoch 88: 100%|██████████████████████████████████████████████████████| 143/143 [00:05<00:00, 28.58batch/s, avg_loss=0.32, loss=0.15, ratio=1.06, worst=1.44]\n"
     ]
    },
    {
     "name": "stdout",
     "output_type": "stream",
     "text": [
      "1.0837530392006458 1.558247637020491\n"
     ]
    },
    {
     "name": "stderr",
     "output_type": "stream",
     "text": [
      "Epoch 89: 100%|██████████████████████████████████████████████████████| 143/143 [00:04<00:00, 28.61batch/s, avg_loss=0.21, loss=0.21, ratio=1.05, worst=1.39]\n"
     ]
    },
    {
     "name": "stdout",
     "output_type": "stream",
     "text": [
      "1.0796069451429902 1.483756386944213\n"
     ]
    },
    {
     "name": "stderr",
     "output_type": "stream",
     "text": [
      "Epoch 90: 100%|██████████████████████████████████████████████████████| 143/143 [00:04<00:00, 28.61batch/s, avg_loss=0.24, loss=0.41, ratio=1.05, worst=1.37]\n"
     ]
    },
    {
     "name": "stdout",
     "output_type": "stream",
     "text": [
      "1.0694041008176092 1.523290198330369\n"
     ]
    },
    {
     "name": "stderr",
     "output_type": "stream",
     "text": [
      "Epoch 91: 100%|██████████████████████████████████████████████████████| 143/143 [00:04<00:00, 28.68batch/s, avg_loss=0.27, loss=1.27, ratio=1.05, worst=1.65]\n"
     ]
    },
    {
     "name": "stdout",
     "output_type": "stream",
     "text": [
      "1.1041240228759297 1.4708535554735134\n"
     ]
    },
    {
     "name": "stderr",
     "output_type": "stream",
     "text": [
      "Epoch 92: 100%|██████████████████████████████████████████████████████| 143/143 [00:04<00:00, 28.73batch/s, avg_loss=0.21, loss=0.09, ratio=1.05, worst=1.38]\n"
     ]
    },
    {
     "name": "stdout",
     "output_type": "stream",
     "text": [
      "1.0671273405144475 1.4692122400736\n"
     ]
    },
    {
     "name": "stderr",
     "output_type": "stream",
     "text": [
      "Epoch 93: 100%|██████████████████████████████████████████████████████| 143/143 [00:04<00:00, 28.68batch/s, avg_loss=0.11, loss=0.12, ratio=1.04, worst=1.41]\n"
     ]
    },
    {
     "name": "stdout",
     "output_type": "stream",
     "text": [
      "1.0644107288680964 1.4238009613662446\n"
     ]
    },
    {
     "name": "stderr",
     "output_type": "stream",
     "text": [
      "Epoch 94: 100%|██████████████████████████████████████████████████████| 143/143 [00:04<00:00, 28.70batch/s, avg_loss=0.09, loss=0.13, ratio=1.03, worst=1.32]\n"
     ]
    },
    {
     "name": "stdout",
     "output_type": "stream",
     "text": [
      "1.0706816518666618 1.4785459672187835\n"
     ]
    },
    {
     "name": "stderr",
     "output_type": "stream",
     "text": [
      "Epoch 95: 100%|██████████████████████████████████████████████████████| 143/143 [00:04<00:00, 28.77batch/s, avg_loss=0.08, loss=0.16, ratio=1.03, worst=1.36]\n"
     ]
    },
    {
     "name": "stdout",
     "output_type": "stream",
     "text": [
      "1.0672302291996274 1.4129553839523428\n"
     ]
    },
    {
     "name": "stderr",
     "output_type": "stream",
     "text": [
      "Epoch 96: 100%|██████████████████████████████████████████████████████| 143/143 [00:04<00:00, 28.68batch/s, avg_loss=0.09, loss=0.12, ratio=1.04, worst=1.36]\n"
     ]
    },
    {
     "name": "stdout",
     "output_type": "stream",
     "text": [
      "1.0650357118940863 1.4277517744664474\n"
     ]
    },
    {
     "name": "stderr",
     "output_type": "stream",
     "text": [
      "Epoch 97: 100%|██████████████████████████████████████████████████████| 143/143 [00:04<00:00, 28.70batch/s, avg_loss=0.12, loss=0.04, ratio=1.04, worst=1.29]\n"
     ]
    },
    {
     "name": "stdout",
     "output_type": "stream",
     "text": [
      "1.0638902661288288 1.3962526831304998\n"
     ]
    },
    {
     "name": "stderr",
     "output_type": "stream",
     "text": [
      "Epoch 98: 100%|██████████████████████████████████████████████████████| 143/143 [00:04<00:00, 28.69batch/s, avg_loss=0.11, loss=0.07, ratio=1.04, worst=1.31]\n"
     ]
    },
    {
     "name": "stdout",
     "output_type": "stream",
     "text": [
      "1.0649586295935858 1.4036755382850818\n"
     ]
    },
    {
     "name": "stderr",
     "output_type": "stream",
     "text": [
      "Epoch 99: 100%|██████████████████████████████████████████████████████| 143/143 [00:04<00:00, 28.73batch/s, avg_loss=0.12, loss=0.09, ratio=1.04, worst=1.49]\n"
     ]
    },
    {
     "name": "stdout",
     "output_type": "stream",
     "text": [
      "1.0660908750760494 1.4288768733604025\n"
     ]
    },
    {
     "name": "stderr",
     "output_type": "stream",
     "text": [
      "Epoch 100: 100%|█████████████████████████████████████████████████████| 143/143 [00:04<00:00, 28.71batch/s, avg_loss=0.10, loss=0.19, ratio=1.04, worst=1.29]\n"
     ]
    },
    {
     "name": "stdout",
     "output_type": "stream",
     "text": [
      "1.084400402447696 1.4603157291270978\n"
     ]
    },
    {
     "name": "stderr",
     "output_type": "stream",
     "text": [
      "Epoch 101: 100%|█████████████████████████████████████████████████████| 143/143 [00:04<00:00, 28.71batch/s, avg_loss=0.10, loss=0.09, ratio=1.04, worst=1.40]\n"
     ]
    },
    {
     "name": "stdout",
     "output_type": "stream",
     "text": [
      "1.066588525978453 1.4321731677279435\n"
     ]
    },
    {
     "name": "stderr",
     "output_type": "stream",
     "text": [
      "Epoch 102: 100%|█████████████████████████████████████████████████████| 143/143 [00:05<00:00, 28.58batch/s, avg_loss=0.08, loss=0.05, ratio=1.03, worst=1.32]\n"
     ]
    },
    {
     "name": "stdout",
     "output_type": "stream",
     "text": [
      "1.0662317331704063 1.4211743156832908\n"
     ]
    },
    {
     "name": "stderr",
     "output_type": "stream",
     "text": [
      "Epoch 103: 100%|█████████████████████████████████████████████████████| 143/143 [00:05<00:00, 28.48batch/s, avg_loss=0.09, loss=0.08, ratio=1.03, worst=1.31]\n"
     ]
    },
    {
     "name": "stdout",
     "output_type": "stream",
     "text": [
      "1.0667823644016856 1.475736816209\n"
     ]
    },
    {
     "name": "stderr",
     "output_type": "stream",
     "text": [
      "Epoch 104: 100%|█████████████████████████████████████████████████████| 143/143 [00:05<00:00, 28.39batch/s, avg_loss=0.12, loss=0.12, ratio=1.04, worst=1.28]\n"
     ]
    },
    {
     "name": "stdout",
     "output_type": "stream",
     "text": [
      "1.06305048124266 1.3761995741721451\n"
     ]
    },
    {
     "name": "stderr",
     "output_type": "stream",
     "text": [
      "Epoch 105: 100%|█████████████████████████████████████████████████████| 143/143 [00:04<00:00, 28.67batch/s, avg_loss=0.13, loss=0.22, ratio=1.04, worst=1.32]\n"
     ]
    },
    {
     "name": "stdout",
     "output_type": "stream",
     "text": [
      "1.068128575832926 1.4227686576179894\n"
     ]
    },
    {
     "name": "stderr",
     "output_type": "stream",
     "text": [
      "Epoch 106: 100%|█████████████████████████████████████████████████████| 143/143 [00:04<00:00, 28.71batch/s, avg_loss=0.33, loss=0.08, ratio=1.06, worst=1.44]\n"
     ]
    },
    {
     "name": "stdout",
     "output_type": "stream",
     "text": [
      "1.0684389970542985 1.455094873323443\n"
     ]
    },
    {
     "name": "stderr",
     "output_type": "stream",
     "text": [
      "Epoch 107: 100%|█████████████████████████████████████████████████████| 143/143 [00:04<00:00, 28.61batch/s, avg_loss=0.23, loss=0.57, ratio=1.05, worst=1.54]\n"
     ]
    },
    {
     "name": "stdout",
     "output_type": "stream",
     "text": [
      "1.11504775944354 1.490311369184483\n"
     ]
    },
    {
     "name": "stderr",
     "output_type": "stream",
     "text": [
      "Epoch 108: 100%|█████████████████████████████████████████████████████| 143/143 [00:04<00:00, 28.63batch/s, avg_loss=0.22, loss=0.15, ratio=1.05, worst=1.44]\n"
     ]
    },
    {
     "name": "stdout",
     "output_type": "stream",
     "text": [
      "1.065038190025306 1.3929220069338015\n"
     ]
    },
    {
     "name": "stderr",
     "output_type": "stream",
     "text": [
      "Epoch 109: 100%|█████████████████████████████████████████████████████| 143/143 [00:05<00:00, 28.44batch/s, avg_loss=0.11, loss=0.09, ratio=1.04, worst=1.31]\n"
     ]
    },
    {
     "name": "stdout",
     "output_type": "stream",
     "text": [
      "1.0628906309901802 1.3858943244566941\n"
     ]
    },
    {
     "name": "stderr",
     "output_type": "stream",
     "text": [
      "Epoch 110: 100%|█████████████████████████████████████████████████████| 143/143 [00:05<00:00, 28.45batch/s, avg_loss=0.07, loss=0.06, ratio=1.03, worst=1.34]\n"
     ]
    },
    {
     "name": "stdout",
     "output_type": "stream",
     "text": [
      "1.0623539124379633 1.3735322830826184\n"
     ]
    },
    {
     "name": "stderr",
     "output_type": "stream",
     "text": [
      "Epoch 111: 100%|█████████████████████████████████████████████████████| 143/143 [00:05<00:00, 27.15batch/s, avg_loss=0.07, loss=0.05, ratio=1.03, worst=1.32]\n"
     ]
    },
    {
     "name": "stdout",
     "output_type": "stream",
     "text": [
      "1.0619494800696396 1.3900492700068448\n"
     ]
    },
    {
     "name": "stderr",
     "output_type": "stream",
     "text": [
      "Epoch 112: 100%|█████████████████████████████████████████████████████| 143/143 [00:05<00:00, 28.47batch/s, avg_loss=0.09, loss=0.06, ratio=1.03, worst=1.33]\n"
     ]
    },
    {
     "name": "stdout",
     "output_type": "stream",
     "text": [
      "1.062352453409076 1.406737844496696\n"
     ]
    },
    {
     "name": "stderr",
     "output_type": "stream",
     "text": [
      "Epoch 113: 100%|█████████████████████████████████████████████████████| 143/143 [00:04<00:00, 28.77batch/s, avg_loss=0.11, loss=0.06, ratio=1.04, worst=1.30]\n"
     ]
    },
    {
     "name": "stdout",
     "output_type": "stream",
     "text": [
      "1.0645752823307637 1.3933002810332278\n"
     ]
    },
    {
     "name": "stderr",
     "output_type": "stream",
     "text": [
      "Epoch 114: 100%|█████████████████████████████████████████████████████| 143/143 [00:05<00:00, 27.91batch/s, avg_loss=0.07, loss=0.06, ratio=1.03, worst=1.27]\n"
     ]
    },
    {
     "name": "stdout",
     "output_type": "stream",
     "text": [
      "1.0633778863701913 1.4110133582672402\n"
     ]
    },
    {
     "name": "stderr",
     "output_type": "stream",
     "text": [
      "Epoch 115: 100%|█████████████████████████████████████████████████████| 143/143 [00:05<00:00, 27.89batch/s, avg_loss=0.07, loss=0.05, ratio=1.03, worst=1.26]\n"
     ]
    },
    {
     "name": "stdout",
     "output_type": "stream",
     "text": [
      "1.0614989358998101 1.4231812020564794\n"
     ]
    },
    {
     "name": "stderr",
     "output_type": "stream",
     "text": [
      "Epoch 116: 100%|█████████████████████████████████████████████████████| 143/143 [00:04<00:00, 28.80batch/s, avg_loss=0.07, loss=0.05, ratio=1.03, worst=1.30]\n"
     ]
    },
    {
     "name": "stdout",
     "output_type": "stream",
     "text": [
      "1.0663917285226872 1.4114761881567939\n"
     ]
    },
    {
     "name": "stderr",
     "output_type": "stream",
     "text": [
      "Epoch 117: 100%|█████████████████████████████████████████████████████| 143/143 [00:04<00:00, 28.69batch/s, avg_loss=0.08, loss=0.05, ratio=1.03, worst=1.25]\n"
     ]
    },
    {
     "name": "stdout",
     "output_type": "stream",
     "text": [
      "1.0627034505097464 1.392683407572422\n"
     ]
    },
    {
     "name": "stderr",
     "output_type": "stream",
     "text": [
      "Epoch 118: 100%|█████████████████████████████████████████████████████| 143/143 [00:04<00:00, 28.64batch/s, avg_loss=0.08, loss=0.11, ratio=1.03, worst=1.24]\n"
     ]
    },
    {
     "name": "stdout",
     "output_type": "stream",
     "text": [
      "1.0632736718556721 1.3798655045625887\n"
     ]
    },
    {
     "name": "stderr",
     "output_type": "stream",
     "text": [
      "Epoch 119: 100%|█████████████████████████████████████████████████████| 143/143 [00:04<00:00, 28.64batch/s, avg_loss=0.28, loss=0.08, ratio=1.05, worst=1.36]\n"
     ]
    },
    {
     "name": "stdout",
     "output_type": "stream",
     "text": [
      "1.0682588288480945 1.5209603606794841\n"
     ]
    },
    {
     "name": "stderr",
     "output_type": "stream",
     "text": [
      "Epoch 120: 100%|█████████████████████████████████████████████████████| 143/143 [00:04<00:00, 28.66batch/s, avg_loss=0.20, loss=0.12, ratio=1.04, worst=1.35]\n"
     ]
    },
    {
     "name": "stdout",
     "output_type": "stream",
     "text": [
      "1.0689549982379174 1.4003985308866305\n"
     ]
    },
    {
     "name": "stderr",
     "output_type": "stream",
     "text": [
      "Epoch 121: 100%|█████████████████████████████████████████████████████| 143/143 [00:04<00:00, 28.68batch/s, avg_loss=0.16, loss=0.12, ratio=1.04, worst=1.35]\n"
     ]
    },
    {
     "name": "stdout",
     "output_type": "stream",
     "text": [
      "1.0649461869484385 1.472985335992783\n"
     ]
    },
    {
     "name": "stderr",
     "output_type": "stream",
     "text": [
      "Epoch 122: 100%|█████████████████████████████████████████████████████| 143/143 [00:04<00:00, 28.73batch/s, avg_loss=0.15, loss=0.27, ratio=1.04, worst=1.39]\n"
     ]
    },
    {
     "name": "stdout",
     "output_type": "stream",
     "text": [
      "1.0730279727729368 1.3878166337188302\n"
     ]
    },
    {
     "name": "stderr",
     "output_type": "stream",
     "text": [
      "Epoch 123: 100%|█████████████████████████████████████████████████████| 143/143 [00:04<00:00, 28.66batch/s, avg_loss=0.13, loss=0.10, ratio=1.04, worst=1.35]\n"
     ]
    },
    {
     "name": "stdout",
     "output_type": "stream",
     "text": [
      "1.0652534255873876 1.435513393066658\n"
     ]
    },
    {
     "name": "stderr",
     "output_type": "stream",
     "text": [
      "Epoch 124:   3%|█▌                                                     | 4/143 [00:00<00:06, 22.79batch/s, avg_loss=0.16, loss=0.10, ratio=1.05, worst=1.28]\n"
     ]
    },
    {
     "ename": "KeyboardInterrupt",
     "evalue": "",
     "output_type": "error",
     "traceback": [
      "\u001b[0;31m---------------------------------------------------------------------------\u001b[0m",
      "\u001b[0;31mKeyboardInterrupt\u001b[0m                         Traceback (most recent call last)",
      "Input \u001b[0;32mIn [5]\u001b[0m, in \u001b[0;36m<cell line: 3>\u001b[0;34m()\u001b[0m\n\u001b[1;32m     26\u001b[0m     loss\u001b[38;5;241m.\u001b[39mbackward()\n\u001b[1;32m     27\u001b[0m     optimizer\u001b[38;5;241m.\u001b[39mstep()\n\u001b[0;32m---> 29\u001b[0m     epoch_loss \u001b[38;5;241m+\u001b[39m\u001b[38;5;241m=\u001b[39m \u001b[43mloss\u001b[49m\u001b[38;5;241;43m.\u001b[39;49m\u001b[43mitem\u001b[49m\u001b[43m(\u001b[49m\u001b[43m)\u001b[49m\n\u001b[1;32m     30\u001b[0m     progress\u001b[38;5;241m.\u001b[39mset_postfix(loss\u001b[38;5;241m=\u001b[39m\u001b[38;5;124mf\u001b[39m\u001b[38;5;124m\"\u001b[39m\u001b[38;5;132;01m{\u001b[39;00mloss\u001b[38;5;241m.\u001b[39mitem()\u001b[38;5;132;01m:\u001b[39;00m\u001b[38;5;124m3.2f\u001b[39m\u001b[38;5;132;01m}\u001b[39;00m\u001b[38;5;124m\"\u001b[39m, ratio\u001b[38;5;241m=\u001b[39m\u001b[38;5;124mf\u001b[39m\u001b[38;5;124m\"\u001b[39m\u001b[38;5;132;01m{\u001b[39;00mratio_off_mean\u001b[38;5;241m/\u001b[39mruns\u001b[38;5;132;01m:\u001b[39;00m\u001b[38;5;124m3.2f\u001b[39m\u001b[38;5;132;01m}\u001b[39;00m\u001b[38;5;124m\"\u001b[39m,  worst\u001b[38;5;241m=\u001b[39m\u001b[38;5;124mf\u001b[39m\u001b[38;5;124m\"\u001b[39m\u001b[38;5;132;01m{\u001b[39;00mworst\u001b[38;5;132;01m:\u001b[39;00m\u001b[38;5;124m3.2f\u001b[39m\u001b[38;5;132;01m}\u001b[39;00m\u001b[38;5;124m\"\u001b[39m, avg_loss\u001b[38;5;241m=\u001b[39m\u001b[38;5;124mf\u001b[39m\u001b[38;5;124m\"\u001b[39m\u001b[38;5;132;01m{\u001b[39;00mepoch_loss\u001b[38;5;241m/\u001b[39mbatch\u001b[38;5;132;01m:\u001b[39;00m\u001b[38;5;124m3.2f\u001b[39m\u001b[38;5;132;01m}\u001b[39;00m\u001b[38;5;124m\"\u001b[39m)\n\u001b[1;32m     31\u001b[0m model\u001b[38;5;241m.\u001b[39meval()\n",
      "\u001b[0;31mKeyboardInterrupt\u001b[0m: "
     ]
    }
   ],
   "source": [
    "num_epoch = 150\n",
    "\n",
    "for epoch in range(num_epoch):\n",
    "    with tqdm(train_loader, desc=f\"Epoch {epoch}\", unit=\"batch\") as progress:\n",
    "        epoch_loss = 0\n",
    "        ratio_off_mean = 0\n",
    "        worst = 1\n",
    "        runs = 0\n",
    "        batch = 0\n",
    "        model.train()\n",
    "        for data_x, data_y in progress:\n",
    "            batch += 1\n",
    "            optimizer.zero_grad()\n",
    "\n",
    "            pred_y = model(data_x.cuda())\n",
    "            for p, d in zip(pred_y.squeeze(), data_y):\n",
    "                r = 1 if p == d else 0\n",
    "                if p > 0 and d > 0:\n",
    "                    r = abs(p.item() / d.item())\n",
    "                    r = max(r, 1/r)\n",
    "                if r > worst:\n",
    "                    worst = r\n",
    "                ratio_off_mean += r\n",
    "                runs += 1\n",
    "            loss = loss_fn(pred_y, data_y.cuda().float().unsqueeze(1))\n",
    "            loss.backward()\n",
    "            optimizer.step()\n",
    "\n",
    "            epoch_loss += loss.item()\n",
    "            progress.set_postfix(loss=f\"{loss.item():3.2f}\", ratio=f\"{ratio_off_mean/runs:3.2f}\",  worst=f\"{worst:3.2f}\", avg_loss=f\"{epoch_loss/batch:3.2f}\")\n",
    "        model.eval()\n",
    "        ratio_off_mean = 0\n",
    "        runs = 0\n",
    "        worst = 0\n",
    "        for data_x, data_y in validation_loader:\n",
    "            pred_y = model(data_x.cuda())\n",
    "            for p, d in zip(pred_y.squeeze(), data_y):\n",
    "                r = abs(p.item() / d.item())\n",
    "                r = max(r, 1/r)\n",
    "                if r > worst:\n",
    "                    worst = r\n",
    "                ratio_off_mean += r\n",
    "                runs += 1\n",
    "        print(ratio_off_mean/runs, worst)\n",
    "            \n",
    "            \n",
    "    "
   ]
  },
  {
   "cell_type": "code",
   "execution_count": 6,
   "id": "2d62a51e-906b-4cd9-b793-6f6be11c708c",
   "metadata": {},
   "outputs": [],
   "source": [
    "model.eval()\n",
    "correct = []\n",
    "predictions = []\n",
    "for data_x, data_y in test_loader:\n",
    "    pred_y = model(data_x.cuda())\n",
    "    for p, d in zip(pred_y.squeeze(), data_y):\n",
    "        correct.append(p.item())\n",
    "        predictions.append(d.item())"
   ]
  },
  {
   "cell_type": "code",
   "execution_count": 9,
   "id": "66e09fcc-5c7c-4725-9b4f-5be7e704c560",
   "metadata": {},
   "outputs": [
    {
     "data": {
      "image/png": "[encoded data removed]",
      "text/plain": [
       "<Figure size 432x288 with 1 Axes>"
      ]
     },
     "metadata": {
      "needs_background": "light"
     },
     "output_type": "display_data"
    }
   ],
   "source": [
    "\n",
    "import matplotlib.pyplot as plt\n",
    "\n",
    "lim = [0, max(*correct, *predictions)*1.1]\n",
    "plt.scatter(correct, predictions, s=20, linewidths=1, edgecolors='black')\n",
    "# plt.scatter(correct, predictions, s=20)\n",
    "plt.gca().set_aspect('equal')\n",
    "plt.gca().set_xlim(lim)\n",
    "plt.gca().set_ylim(lim)\n",
    "# plt.xscale('log')\n",
    "# plt.yscale('log')\n",
    "plt.plot([0, lim[1]], [0, lim[1]], color='red')\n",
    "plt.show()"
   ]
  },
  {
   "cell_type": "code",
   "execution_count": null,
   "id": "6c4adc38-684e-48e2-9c62-dab4900a3276",
   "metadata": {},
   "outputs": [],
   "source": [
    "torch.save(model.state_dict(), \"PLD_CNN_150_epochs_2-2-23_2.pt\")"
   ]
  },
  {
   "cell_type": "code",
   "execution_count": null,
   "id": "a720e75e-9a1a-4ce5-9743-92aa09669115",
   "metadata": {},
   "outputs": [],
   "source": []
  }
 ],
 "metadata": {
  "kernelspec": {
   "display_name": "mof",
   "language": "python",
   "name": "mof"
  },
  "language_info": {
   "codemirror_mode": {
    "name": "ipython",
    "version": 3
   },
   "file_extension": ".py",
   "mimetype": "text/x-python",
   "name": "python",
   "nbconvert_exporter": "python",
   "pygments_lexer": "ipython3",
   "version": "3.10.9"
  }
 },
 "nbformat": 4,
 "nbformat_minor": 5
}
