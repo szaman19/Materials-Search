{
 "cells": [
  {
   "cell_type": "code",
   "execution_count": 1,
   "id": "8bf252c9-13aa-48c5-9620-3ac55b1acd88",
   "metadata": {},
   "outputs": [],
   "source": [
    "import os\n",
    "import torch\n",
    "from torch import optim, nn, utils, Tensor\n",
    "from torchvision import transforms\n",
    "from torchvision.datasets import MNIST\n",
    "from torchvision.transforms import ToTensor\n",
    "from torch.utils.data import DataLoader, random_split\n",
    "import pytorch_lightning as pl"
   ]
  },
  {
   "cell_type": "code",
   "execution_count": 2,
   "id": "1b5c6b3d-89e7-479f-89f4-7351b652cee2",
   "metadata": {},
   "outputs": [
    {
     "name": "stdout",
     "output_type": "stream",
     "text": [
      "available features: 12020 available grids: 10143\n",
      "0 missing features\n",
      "small grids 0 9128\n",
      "data shape (1, 32, 32, 32)\n",
      "feature shape (1,) [5.91912]\n",
      "data range -0.48497558 -> 1.0\n"
     ]
    }
   ],
   "source": [
    "import numpy as np\n",
    "import dataset as MOFdata\n",
    "\n",
    "def filter_data(x):\n",
    "    a, b = -4000, 5000\n",
    "    mid = (a + b)/2\n",
    "    dif = b-a\n",
    "    # energy = x[0]\n",
    "    energy = np.clip(x[0] - mid, a - mid, b - mid) / (dif / 2)\n",
    "    # return np.array([x[1], x[2]])\n",
    "    return np.array([energy])\n",
    "\n",
    "grid_file = \"data/grids.npy\"\n",
    "csv_file = \"data/ASR.csv\"\n",
    "lattice_file = \"data/grids.lattice.npy\"\n",
    "feature = \"LCD\"\n",
    "\n",
    "dataset = MOFdata.Dataset(grid_file, csv_file, lattice_file, feature, transform=filter_data)\n",
    "train_set_size = int(.9 * len(dataset))\n",
    "validation_set_size = int(.05 * len(dataset))\n",
    "test_set_size = len(dataset) - train_set_size - validation_set_size\n",
    "train_set, validation_set, test_set = random_split(\n",
    "    dataset=dataset,\n",
    "    lengths=(train_set_size,\n",
    "    validation_set_size,\n",
    "    test_set_size),\n",
    "    generator=torch.Generator().manual_seed(42))\n",
    "\n",
    "loader_args = dict(batch_size=64, num_workers=4)\n",
    "train_loader = DataLoader(train_set, **loader_args)\n",
    "validation_loader = DataLoader(validation_set, **loader_args)\n",
    "test_loader = DataLoader(test_set, **loader_args)\n",
    "\n",
    "a = np.min(train_set[0][0])\n",
    "b = np.max(train_set[0][0])\n",
    "small = 0\n",
    "for x, _ in train_set:\n",
    "    sz = np.max(np.abs(x))\n",
    "    a = min(a, np.min(x))\n",
    "    b = max(b, np.max(x))\n",
    "    if sz < 0.6:\n",
    "        small += 1\n",
    "print(\"small grids\", small, len(train_set))\n",
    "print(\"data shape\", train_set[0][0].shape)\n",
    "print(\"feature shape\", train_set[0][1].shape, train_set[0][1])\n",
    "print(\"data range\", a, \"->\", b)"
   ]
  },
  {
   "cell_type": "code",
   "execution_count": 3,
   "id": "ceecb7c2-38db-4e6c-8d9e-1bd90ee9a902",
   "metadata": {},
   "outputs": [],
   "source": [
    "import random\n",
    "import basic_net\n",
    "\n",
    "def loss_fn(output, target):\n",
    "    # diff = torch.abs(output-target)\n",
    "    # return max(nn.functional.l1_loss(output, target), torch.mean(torch.abs(output-target)**3))\n",
    "    # return torch.mean(torch.max(diff, diff**3))\n",
    "    return nn.functional.mse_loss(output, target)\n",
    "\n",
    "def proportional_loss(output, target):\n",
    "    return torch.mean(torch.abs(output-target)/torch.abs(target))\n",
    "\n",
    "# define the LightningModule\n",
    "class ModulePL(pl.LightningModule):\n",
    "    def __init__(self, device=None):\n",
    "        super().__init__()\n",
    "        self.model = basic_net.BasicModel(features=1, channels=1, depth=32, dropout=0.02)\n",
    "    \n",
    "    def forward(self, x):\n",
    "        return self.model(x)\n",
    "\n",
    "    def training_step(self, batch, batch_idx):\n",
    "        x, y = batch\n",
    "        y_hat = self.forward(x)\n",
    "        loss = loss_fn(y.float(), y_hat)\n",
    "        self.log(\"train_loss\", loss)\n",
    "        return loss\n",
    "\n",
    "    def validation_step(self, val_batch, batch_idx):\n",
    "        x, y = val_batch\n",
    "        y = y.float()\n",
    "        y_hat = self.forward(x)\n",
    "        loss = loss_fn(y_hat, y)\n",
    "        l1_loss = nn.functional.l1_loss(y_hat, y)\n",
    "\n",
    "        self.log('validation_loss', loss)\n",
    "        self.log('validation_l1_loss', l1_loss)\n",
    "        self.log('validation_p_loss', proportional_loss(y_hat, y))\n",
    "        return loss\n",
    "\n",
    "    def configure_optimizers(self):\n",
    "        optimizer = optim.Adam(self.parameters(), lr=1e-3, amsgrad=True)\n",
    "        return dict(optimizer=optimizer, lr_scheduler=torch.optim.lr_scheduler.ReduceLROnPlateau(optimizer, factor=0.2, cooldown=10, verbose=True), monitor=\"validation_loss\")\n",
    "\n",
    "\n",
    "model = ModulePL()"
   ]
  },
  {
   "cell_type": "code",
   "execution_count": 4,
   "id": "2c062e41-a58b-4d6c-8f48-f4a00ff58058",
   "metadata": {},
   "outputs": [
    {
     "name": "stderr",
     "output_type": "stream",
     "text": [
      "\u001b[34m\u001b[1mwandb\u001b[0m: Currently logged in as: \u001b[33mefergus3\u001b[0m. Use \u001b[1m`wandb login --relogin`\u001b[0m to force relogin\n"
     ]
    },
    {
     "data": {
      "text/html": [
       "wandb version 0.13.11 is available!  To upgrade, please run:\n",
       " $ pip install wandb --upgrade"
      ],
      "text/plain": [
       "<IPython.core.display.HTML object>"
      ]
     },
     "metadata": {},
     "output_type": "display_data"
    },
    {
     "data": {
      "text/html": [
       "Tracking run with wandb version 0.13.10"
      ],
      "text/plain": [
       "<IPython.core.display.HTML object>"
      ]
     },
     "metadata": {},
     "output_type": "display_data"
    },
    {
     "data": {
      "text/html": [
       "Run data is saved locally in <code>./wandb/run-20230309_173623-y07hck5v</code>"
      ],
      "text/plain": [
       "<IPython.core.display.HTML object>"
      ]
     },
     "metadata": {},
     "output_type": "display_data"
    },
    {
     "data": {
      "text/html": [
       "Syncing run <strong><a href='https://wandb.ai/efergus3/lattice/runs/y07hck5v' target=\"_blank\">crimson-dream-100</a></strong> to <a href='https://wandb.ai/efergus3/lattice' target=\"_blank\">Weights & Biases</a> (<a href='https://wandb.me/run' target=\"_blank\">docs</a>)<br/>"
      ],
      "text/plain": [
       "<IPython.core.display.HTML object>"
      ]
     },
     "metadata": {},
     "output_type": "display_data"
    },
    {
     "data": {
      "text/html": [
       " View project at <a href='https://wandb.ai/efergus3/lattice' target=\"_blank\">https://wandb.ai/efergus3/lattice</a>"
      ],
      "text/plain": [
       "<IPython.core.display.HTML object>"
      ]
     },
     "metadata": {},
     "output_type": "display_data"
    },
    {
     "data": {
      "text/html": [
       " View run at <a href='https://wandb.ai/efergus3/lattice/runs/y07hck5v' target=\"_blank\">https://wandb.ai/efergus3/lattice/runs/y07hck5v</a>"
      ],
      "text/plain": [
       "<IPython.core.display.HTML object>"
      ]
     },
     "metadata": {},
     "output_type": "display_data"
    }
   ],
   "source": [
    "# set up trainer\n",
    "from pytorch_lightning.loggers import WandbLogger\n",
    "from pytorch_lightning.callbacks import ModelCheckpoint\n",
    "\n",
    "wandb_logger = WandbLogger(project=\"lattice\")\n",
    "chkpt_dir = \"./lattice_pt\"\n",
    "checkpoint_callback = ModelCheckpoint(dirpath=chkpt_dir, save_top_k=2, monitor=\"validation_loss\")"
   ]
  },
  {
   "cell_type": "code",
   "execution_count": null,
   "id": "5bfb9adc-c452-48ac-9e6c-402ca86b3385",
   "metadata": {},
   "outputs": [
    {
     "name": "stderr",
     "output_type": "stream",
     "text": [
      "GPU available: True (cuda), used: True\n",
      "TPU available: False, using: 0 TPU cores\n",
      "IPU available: False, using: 0 IPUs\n",
      "HPU available: False, using: 0 HPUs\n",
      "/home/efergus3/miniconda3/envs/mof/lib/python3.10/site-packages/pytorch_lightning/callbacks/model_checkpoint.py:613: UserWarning: Checkpoint directory /home/efergus3/Materials/Materials-Search/Screening/lattice_pt exists and is not empty.\n",
      "  rank_zero_warn(f\"Checkpoint directory {dirpath} exists and is not empty.\")\n",
      "LOCAL_RANK: 0 - CUDA_VISIBLE_DEVICES: [0]\n",
      "\n",
      "  | Name  | Type       | Params\n",
      "-------------------------------------\n",
      "0 | model | BasicModel | 190 K \n",
      "-------------------------------------\n",
      "190 K     Trainable params\n",
      "0         Non-trainable params\n",
      "190 K     Total params\n",
      "0.763     Total estimated model params size (MB)\n"
     ]
    },
    {
     "data": {
      "application/vnd.jupyter.widget-view+json": {
       "model_id": "",
       "version_major": 2,
       "version_minor": 0
      },
      "text/plain": [
       "Sanity Checking: 0it [00:00, ?it/s]"
      ]
     },
     "metadata": {},
     "output_type": "display_data"
    },
    {
     "data": {
      "application/vnd.jupyter.widget-view+json": {
       "model_id": "0fc3c55ccd5043568533babfd044c534",
       "version_major": 2,
       "version_minor": 0
      },
      "text/plain": [
       "Training: 0it [00:00, ?it/s]"
      ]
     },
     "metadata": {},
     "output_type": "display_data"
    },
    {
     "data": {
      "application/vnd.jupyter.widget-view+json": {
       "model_id": "",
       "version_major": 2,
       "version_minor": 0
      },
      "text/plain": [
       "Validation: 0it [00:00, ?it/s]"
      ]
     },
     "metadata": {},
     "output_type": "display_data"
    },
    {
     "data": {
      "application/vnd.jupyter.widget-view+json": {
       "model_id": "",
       "version_major": 2,
       "version_minor": 0
      },
      "text/plain": [
       "Validation: 0it [00:00, ?it/s]"
      ]
     },
     "metadata": {},
     "output_type": "display_data"
    },
    {
     "data": {
      "application/vnd.jupyter.widget-view+json": {
       "model_id": "",
       "version_major": 2,
       "version_minor": 0
      },
      "text/plain": [
       "Validation: 0it [00:00, ?it/s]"
      ]
     },
     "metadata": {},
     "output_type": "display_data"
    }
   ],
   "source": [
    "# train\n",
    "trainer = pl.Trainer(\n",
    "    logger = wandb_logger,\n",
    "    limit_train_batches=100,\n",
    "    limit_val_batches=10,\n",
    "    max_epochs=100,\n",
    "    # gradient_clip_val=0.5,\n",
    "    accelerator='gpu',\n",
    "    callbacks=[checkpoint_callback],\n",
    ")\n",
    "\n",
    "# train the model\n",
    "trainer.fit(model=model, train_dataloaders=train_loader,  val_dataloaders=validation_loader)"
   ]
  },
  {
   "cell_type": "code",
   "execution_count": 6,
   "id": "d9cb0d1e-ca67-4bc2-8671-e6b428b34c82",
   "metadata": {},
   "outputs": [],
   "source": [
    "def predict(model, loader, count, idx=0):\n",
    "    correct = []\n",
    "    predictions = []\n",
    "    for data_x, data_y in loader:\n",
    "        pred_y = model(data_x)\n",
    "        for p, d in zip(data_y, pred_y):\n",
    "            # if not p.shape:\n",
    "            #     correct.append(d.item())\n",
    "            #     predictions.append(p.item())\n",
    "            # else:\n",
    "            correct.append(d[idx].detach())\n",
    "            predictions.append(p[idx].detach())\n",
    "            count -= 1\n",
    "        if count <= 0:\n",
    "            break\n",
    "    return predictions, correct"
   ]
  },
  {
   "cell_type": "code",
   "execution_count": 7,
   "id": "967ca1dc-63ad-40ee-9213-e2020bdedf58",
   "metadata": {},
   "outputs": [],
   "source": [
    "# load most recent model\n",
    "import util\n",
    "checkpoint = util.latest_file(chkpt_dir)\n",
    "model = ModulePL.load_from_checkpoint(checkpoint)"
   ]
  },
  {
   "cell_type": "code",
   "execution_count": 8,
   "id": "f33a937f-fca0-4df4-9a9b-5635a50ba758",
   "metadata": {},
   "outputs": [
    {
     "data": {
      "image/png": "[encoded data removed]",
      "text/plain": [
       "<Figure size 900x300 with 3 Axes>"
      ]
     },
     "metadata": {},
     "output_type": "display_data"
    }
   ],
   "source": [
    "# plot performance\n",
    "import matplotlib.pyplot as plt\n",
    "\n",
    "count = min(100, test_set_size)\n",
    "\n",
    "fig, axs = plt.subplots(1, 3, figsize=(9, 3), dpi=100)\n",
    "fig.suptitle(f\"CNN Performance on {count} MOFs\", fontsize=16, verticalalignment='center')\n",
    "\n",
    "for i, (title, loader) in enumerate(zip((\"training\", \"validation\", \"test\"), (train_loader, validation_loader, test_loader))):\n",
    "    ax = axs[i]\n",
    "    x, x_hat = predict(model, loader, count, 0)\n",
    "    lim = [0, max(*x, *x_hat)*1.1]\n",
    "    ax.scatter(x, x_hat, s=20, linewidths=1, edgecolors='black')\n",
    "\n",
    "    ax.title.set_text(title)\n",
    "    ax.set_aspect('equal')\n",
    "    ax.set_xlim(lim)\n",
    "    ax.set_ylim(lim)\n",
    "    # plt.xscale('log')\n",
    "    # plt.yscale('log')\n",
    "    ax.plot([0, lim[1]], [0, lim[1]], color='red')\n",
    "\n",
    "plt.show()"
   ]
  },
  {
   "cell_type": "code",
   "execution_count": null,
   "id": "b1d582b1-90a2-4272-9808-461c34c7baa6",
   "metadata": {},
   "outputs": [],
   "source": []
  }
 ],
 "metadata": {
  "kernelspec": {
   "display_name": "mof",
   "language": "python",
   "name": "mof"
  },
  "language_info": {
   "codemirror_mode": {
    "name": "ipython",
    "version": 3
   },
   "file_extension": ".py",
   "mimetype": "text/x-python",
   "name": "python",
   "nbconvert_exporter": "python",
   "pygments_lexer": "ipython3",
   "version": "3.10.9"
  }
 },
 "nbformat": 4,
 "nbformat_minor": 5
}
