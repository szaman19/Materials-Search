{
 "cells": [
  {
   "cell_type": "code",
   "execution_count": 1,
   "id": "8bf252c9-13aa-48c5-9620-3ac55b1acd88",
   "metadata": {},
   "outputs": [],
   "source": [
    "import os\n",
    "import torch\n",
    "from torch import optim, nn, utils, Tensor\n",
    "from torchvision import transforms\n",
    "from torchvision.datasets import MNIST\n",
    "from torchvision.transforms import ToTensor\n",
    "from torch.utils.data import DataLoader, random_split\n",
    "import pytorch_lightning as pl"
   ]
  },
  {
   "cell_type": "code",
   "execution_count": 2,
   "id": "1b5c6b3d-89e7-479f-89f4-7351b652cee2",
   "metadata": {},
   "outputs": [
    {
     "name": "stdout",
     "output_type": "stream",
     "text": [
      "available features: 10143 available grids: 10140\n",
      "0 missing features\n",
      "small grids 0 9126\n",
      "data shape (3, 32, 32, 32)\n",
      "feature shape (3,) [14.932 14.932 11.956]\n",
      "data range -0.48497555 -> 5.660271\n"
     ]
    }
   ],
   "source": [
    "import numpy as np\n",
    "import dataset as MOFdata\n",
    "\n",
    "def filter_data(x):\n",
    "    a, b = -4000, 5000\n",
    "    mid = (a + b)/2\n",
    "    dif = b-a\n",
    "    # energy = x[0]\n",
    "    energy = np.clip(x[0] - mid, a - mid, b - mid) / (dif / 2)\n",
    "    # return np.array([x[1], x[2]])\n",
    "    return np.array([energy, x[1], x[2]])\n",
    "\n",
    "\n",
    "def filter_labels(x):\n",
    "    return x[:3]\n",
    "\n",
    "grid_file = \"data/probability.npy\"\n",
    "csv_file = \"data/ASR.csv\"\n",
    "lattice_file = \"data/grids.lattice.npy\"\n",
    "feature = \"lattice\"\n",
    "\n",
    "dataset = MOFdata.Dataset(grid_file, csv_file, lattice_file, feature, transform=filter_data, transform_labels=filter_labels)\n",
    "train_set_size = int(.9 * len(dataset))\n",
    "validation_set_size = int(.05 * len(dataset))\n",
    "test_set_size = len(dataset) - train_set_size - validation_set_size\n",
    "train_set, validation_set, test_set = random_split(\n",
    "    dataset=dataset,\n",
    "    lengths=(train_set_size,\n",
    "    validation_set_size,\n",
    "    test_set_size),\n",
    "    generator=torch.Generator().manual_seed(42))\n",
    "\n",
    "loader_args = dict(batch_size=64, num_workers=4)\n",
    "train_loader = DataLoader(train_set, **loader_args)\n",
    "validation_loader = DataLoader(validation_set, **loader_args)\n",
    "test_loader = DataLoader(test_set, **loader_args)\n",
    "\n",
    "a = np.min(train_set[0][0])\n",
    "b = np.max(train_set[0][0])\n",
    "small = 0\n",
    "for x, _ in train_set:\n",
    "    a = min(a, np.min(x))\n",
    "    b = max(b, np.max(x))\n",
    "print(\"small grids\", small, len(train_set))\n",
    "print(\"data shape\", train_set[0][0].shape)\n",
    "print(\"feature shape\", train_set[0][1].shape, train_set[0][1])\n",
    "print(\"data range\", a, \"->\", b)"
   ]
  },
  {
   "cell_type": "code",
   "execution_count": 3,
   "id": "ceecb7c2-38db-4e6c-8d9e-1bd90ee9a902",
   "metadata": {},
   "outputs": [
    {
     "name": "stdout",
     "output_type": "stream",
     "text": [
      "layer1 Sequential(\n",
      "  (0): Conv3d(3, 32, kernel_size=(5, 5, 5), stride=(1, 1, 1), padding=same, padding_mode=circular)\n",
      "  (1): ReLU()\n",
      "  (2): MaxPool3d(kernel_size=2, stride=2, padding=0, dilation=1, ceil_mode=False)\n",
      ")\n",
      "layer2 Sequential(\n",
      "  (0): Conv3d(32, 32, kernel_size=(3, 3, 3), stride=(1, 1, 1), padding=same)\n",
      "  (1): ReLU()\n",
      "  (2): MaxPool3d(kernel_size=2, stride=2, padding=0, dilation=1, ceil_mode=False)\n",
      "  (3): Dropout(p=0.5, inplace=False)\n",
      ")\n",
      "layer3 Sequential(\n",
      "  (0): Conv3d(32, 32, kernel_size=(3, 3, 3), stride=(1, 1, 1), padding=same)\n",
      "  (1): ReLU()\n",
      "  (2): MaxPool3d(kernel_size=2, stride=2, padding=0, dilation=1, ceil_mode=False)\n",
      "  (3): Dropout(p=0.5, inplace=False)\n",
      ")\n",
      "fc Sequential(\n",
      "  (0): Linear(in_features=2048, out_features=64, bias=True)\n",
      "  (1): ReLU()\n",
      "  (2): BatchNorm1d(64, eps=1e-05, momentum=0.1, affine=True, track_running_stats=True)\n",
      "  (3): Dropout(p=0.5, inplace=False)\n",
      ")\n",
      "final Linear(in_features=64, out_features=3, bias=True)\n"
     ]
    }
   ],
   "source": [
    "import random\n",
    "from basic_net import BasicModel\n",
    "\n",
    "def loss_fn(output, target):\n",
    "    return nn.functional.mse_loss(output, target)\n",
    "\n",
    "def proportional_loss(output, target):\n",
    "    return torch.mean(torch.abs(output-target)/torch.abs(target))\n",
    "\n",
    "# define the LightningModule\n",
    "class ModulePL(pl.LightningModule):\n",
    "    def __init__(self, features=3, channels=3, dropout=0.5, device=None):\n",
    "        super().__init__()\n",
    "        self.save_hyperparameters()\n",
    "        self.model = BasicModel(features=features, channels=channels, dropout=dropout)\n",
    "        # self.saved_model = saved_model\n",
    "        self.activations = {}\n",
    "        for name, child in self.model.named_children():\n",
    "            # print(name, child)\n",
    "            # break\n",
    "            child.register_forward_hook(self.get_activation(name))\n",
    "    \n",
    "    def forward(self, x):\n",
    "        return self.model(x)\n",
    "\n",
    "    def training_step(self, batch, batch_idx):\n",
    "        x, y = batch\n",
    "        y_hat = self.forward(x)\n",
    "        loss = loss_fn(y.float(), y_hat)\n",
    "        self.log(\"train_loss\", loss)\n",
    "        return loss\n",
    "    \n",
    "    def get_activation(self, name):\n",
    "        def hook(model, input, output):\n",
    "            self.activations[name] = output.detach()\n",
    "        return hook\n",
    "        \n",
    "\n",
    "    def validation_step(self, val_batch, batch_idx):\n",
    "        x, y = val_batch\n",
    "        y = y.float()\n",
    "        y_hat = self.forward(x)\n",
    "        loss = loss_fn(y_hat, y)\n",
    "        l1_loss = nn.functional.l1_loss(y_hat, y)\n",
    "\n",
    "        self.log('validation_loss', loss)\n",
    "        self.log('validation_l1_loss', l1_loss)\n",
    "        self.log('validation_p_loss', proportional_loss(y_hat, y))\n",
    "        # if not self.global_step % 1000:\n",
    "        for name, values in self.activations.items():\n",
    "            self.log(f'activations/{name}-max', torch.max(torch.abs(values)).item())\n",
    "        return loss\n",
    "\n",
    "    def configure_optimizers(self):\n",
    "        # optimizer = optim.Adam(self.parameters(), lr=1e-3, amsgrad=True)\n",
    "        optimizer = optim.SGD(self.parameters(), lr=1e-3, momentum=0.99, nesterov=True)\n",
    "        # optimizer = optim.Adadelta(self.parameters(), lr=1e-3)\n",
    "        return dict(optimizer=optimizer, lr_scheduler=torch.optim.lr_scheduler.ReduceLROnPlateau(optimizer, factor=0.2, cooldown=20, verbose=True), monitor=\"validation_loss\")\n",
    "        # return optimizer\n",
    "\n",
    "\n",
    "model = ModulePL()"
   ]
  },
  {
   "cell_type": "code",
   "execution_count": 4,
   "id": "2c062e41-a58b-4d6c-8f48-f4a00ff58058",
   "metadata": {},
   "outputs": [
    {
     "name": "stderr",
     "output_type": "stream",
     "text": [
      "\u001b[34m\u001b[1mwandb\u001b[0m: Currently logged in as: \u001b[33mefergus3\u001b[0m. Use \u001b[1m`wandb login --relogin`\u001b[0m to force relogin\n"
     ]
    },
    {
     "data": {
      "text/html": [
       "wandb version 0.14.2 is available!  To upgrade, please run:\n",
       " $ pip install wandb --upgrade"
      ],
      "text/plain": [
       "<IPython.core.display.HTML object>"
      ]
     },
     "metadata": {},
     "output_type": "display_data"
    },
    {
     "data": {
      "text/html": [
       "Tracking run with wandb version 0.14.0"
      ],
      "text/plain": [
       "<IPython.core.display.HTML object>"
      ]
     },
     "metadata": {},
     "output_type": "display_data"
    },
    {
     "data": {
      "text/html": [
       "Run data is saved locally in <code>./wandb/run-20230418_114839-jjmfcywt</code>"
      ],
      "text/plain": [
       "<IPython.core.display.HTML object>"
      ]
     },
     "metadata": {},
     "output_type": "display_data"
    },
    {
     "data": {
      "text/html": [
       "Syncing run <strong><a href='https://wandb.ai/efergus3/lattice/runs/jjmfcywt' target=\"_blank\">wild-bush-4</a></strong> to <a href='https://wandb.ai/efergus3/lattice' target=\"_blank\">Weights & Biases</a> (<a href='https://wandb.me/run' target=\"_blank\">docs</a>)<br/>"
      ],
      "text/plain": [
       "<IPython.core.display.HTML object>"
      ]
     },
     "metadata": {},
     "output_type": "display_data"
    },
    {
     "data": {
      "text/html": [
       " View project at <a href='https://wandb.ai/efergus3/lattice' target=\"_blank\">https://wandb.ai/efergus3/lattice</a>"
      ],
      "text/plain": [
       "<IPython.core.display.HTML object>"
      ]
     },
     "metadata": {},
     "output_type": "display_data"
    },
    {
     "data": {
      "text/html": [
       " View run at <a href='https://wandb.ai/efergus3/lattice/runs/jjmfcywt' target=\"_blank\">https://wandb.ai/efergus3/lattice/runs/jjmfcywt</a>"
      ],
      "text/plain": [
       "<IPython.core.display.HTML object>"
      ]
     },
     "metadata": {},
     "output_type": "display_data"
    }
   ],
   "source": [
    "# set up trainer\n",
    "import wandb\n",
    "from pytorch_lightning.loggers import WandbLogger\n",
    "from pytorch_lightning.callbacks import ModelCheckpoint\n",
    "\n",
    "wandb_logger = WandbLogger(project=\"lattice\", log_model=\"all\")\n",
    "chkpt_dir = \"./lattice_pt\"\n",
    "checkpoint_callback = ModelCheckpoint(dirpath=chkpt_dir, save_top_k=2, monitor=\"validation_loss\")"
   ]
  },
  {
   "cell_type": "code",
   "execution_count": null,
   "id": "5bfb9adc-c452-48ac-9e6c-402ca86b3385",
   "metadata": {},
   "outputs": [
    {
     "name": "stderr",
     "output_type": "stream",
     "text": [
      "\u001b[34m\u001b[1mwandb\u001b[0m: logging graph, to disable use `wandb.watch(log_graph=False)`\n",
      "GPU available: True (cuda), used: True\n",
      "TPU available: False, using: 0 TPU cores\n",
      "IPU available: False, using: 0 IPUs\n",
      "HPU available: False, using: 0 HPUs\n",
      "/home/efergus3/miniconda3/envs/mof/lib/python3.10/site-packages/pytorch_lightning/callbacks/model_checkpoint.py:613: UserWarning: Checkpoint directory /home/efergus3/Materials/Materials-Search/Screening/lattice_pt exists and is not empty.\n",
      "  rank_zero_warn(f\"Checkpoint directory {dirpath} exists and is not empty.\")\n",
      "LOCAL_RANK: 0 - CUDA_VISIBLE_DEVICES: [0]\n",
      "\n",
      "  | Name  | Type       | Params\n",
      "-------------------------------------\n",
      "0 | model | BasicModel | 198 K \n",
      "-------------------------------------\n",
      "198 K     Trainable params\n",
      "0         Non-trainable params\n",
      "198 K     Total params\n",
      "0.795     Total estimated model params size (MB)\n"
     ]
    },
    {
     "data": {
      "application/vnd.jupyter.widget-view+json": {
       "model_id": "",
       "version_major": 2,
       "version_minor": 0
      },
      "text/plain": [
       "Sanity Checking: 0it [00:00, ?it/s]"
      ]
     },
     "metadata": {},
     "output_type": "display_data"
    },
    {
     "data": {
      "application/vnd.jupyter.widget-view+json": {
       "model_id": "f2a8362bf51142c7ba4173e09321b01d",
       "version_major": 2,
       "version_minor": 0
      },
      "text/plain": [
       "Training: 0it [00:00, ?it/s]"
      ]
     },
     "metadata": {},
     "output_type": "display_data"
    },
    {
     "data": {
      "application/vnd.jupyter.widget-view+json": {
       "model_id": "",
       "version_major": 2,
       "version_minor": 0
      },
      "text/plain": [
       "Validation: 0it [00:00, ?it/s]"
      ]
     },
     "metadata": {},
     "output_type": "display_data"
    },
    {
     "data": {
      "application/vnd.jupyter.widget-view+json": {
       "model_id": "",
       "version_major": 2,
       "version_minor": 0
      },
      "text/plain": [
       "Validation: 0it [00:00, ?it/s]"
      ]
     },
     "metadata": {},
     "output_type": "display_data"
    },
    {
     "data": {
      "application/vnd.jupyter.widget-view+json": {
       "model_id": "",
       "version_major": 2,
       "version_minor": 0
      },
      "text/plain": [
       "Validation: 0it [00:00, ?it/s]"
      ]
     },
     "metadata": {},
     "output_type": "display_data"
    },
    {
     "data": {
      "application/vnd.jupyter.widget-view+json": {
       "model_id": "",
       "version_major": 2,
       "version_minor": 0
      },
      "text/plain": [
       "Validation: 0it [00:00, ?it/s]"
      ]
     },
     "metadata": {},
     "output_type": "display_data"
    },
    {
     "data": {
      "application/vnd.jupyter.widget-view+json": {
       "model_id": "",
       "version_major": 2,
       "version_minor": 0
      },
      "text/plain": [
       "Validation: 0it [00:00, ?it/s]"
      ]
     },
     "metadata": {},
     "output_type": "display_data"
    },
    {
     "data": {
      "application/vnd.jupyter.widget-view+json": {
       "model_id": "",
       "version_major": 2,
       "version_minor": 0
      },
      "text/plain": [
       "Validation: 0it [00:00, ?it/s]"
      ]
     },
     "metadata": {},
     "output_type": "display_data"
    },
    {
     "data": {
      "application/vnd.jupyter.widget-view+json": {
       "model_id": "",
       "version_major": 2,
       "version_minor": 0
      },
      "text/plain": [
       "Validation: 0it [00:00, ?it/s]"
      ]
     },
     "metadata": {},
     "output_type": "display_data"
    },
    {
     "data": {
      "application/vnd.jupyter.widget-view+json": {
       "model_id": "",
       "version_major": 2,
       "version_minor": 0
      },
      "text/plain": [
       "Validation: 0it [00:00, ?it/s]"
      ]
     },
     "metadata": {},
     "output_type": "display_data"
    },
    {
     "data": {
      "application/vnd.jupyter.widget-view+json": {
       "model_id": "",
       "version_major": 2,
       "version_minor": 0
      },
      "text/plain": [
       "Validation: 0it [00:00, ?it/s]"
      ]
     },
     "metadata": {},
     "output_type": "display_data"
    },
    {
     "data": {
      "application/vnd.jupyter.widget-view+json": {
       "model_id": "",
       "version_major": 2,
       "version_minor": 0
      },
      "text/plain": [
       "Validation: 0it [00:00, ?it/s]"
      ]
     },
     "metadata": {},
     "output_type": "display_data"
    },
    {
     "data": {
      "application/vnd.jupyter.widget-view+json": {
       "model_id": "",
       "version_major": 2,
       "version_minor": 0
      },
      "text/plain": [
       "Validation: 0it [00:00, ?it/s]"
      ]
     },
     "metadata": {},
     "output_type": "display_data"
    },
    {
     "data": {
      "application/vnd.jupyter.widget-view+json": {
       "model_id": "",
       "version_major": 2,
       "version_minor": 0
      },
      "text/plain": [
       "Validation: 0it [00:00, ?it/s]"
      ]
     },
     "metadata": {},
     "output_type": "display_data"
    },
    {
     "data": {
      "application/vnd.jupyter.widget-view+json": {
       "model_id": "",
       "version_major": 2,
       "version_minor": 0
      },
      "text/plain": [
       "Validation: 0it [00:00, ?it/s]"
      ]
     },
     "metadata": {},
     "output_type": "display_data"
    },
    {
     "data": {
      "application/vnd.jupyter.widget-view+json": {
       "model_id": "",
       "version_major": 2,
       "version_minor": 0
      },
      "text/plain": [
       "Validation: 0it [00:00, ?it/s]"
      ]
     },
     "metadata": {},
     "output_type": "display_data"
    },
    {
     "data": {
      "application/vnd.jupyter.widget-view+json": {
       "model_id": "",
       "version_major": 2,
       "version_minor": 0
      },
      "text/plain": [
       "Validation: 0it [00:00, ?it/s]"
      ]
     },
     "metadata": {},
     "output_type": "display_data"
    },
    {
     "data": {
      "application/vnd.jupyter.widget-view+json": {
       "model_id": "",
       "version_major": 2,
       "version_minor": 0
      },
      "text/plain": [
       "Validation: 0it [00:00, ?it/s]"
      ]
     },
     "metadata": {},
     "output_type": "display_data"
    },
    {
     "data": {
      "application/vnd.jupyter.widget-view+json": {
       "model_id": "",
       "version_major": 2,
       "version_minor": 0
      },
      "text/plain": [
       "Validation: 0it [00:00, ?it/s]"
      ]
     },
     "metadata": {},
     "output_type": "display_data"
    },
    {
     "data": {
      "application/vnd.jupyter.widget-view+json": {
       "model_id": "",
       "version_major": 2,
       "version_minor": 0
      },
      "text/plain": [
       "Validation: 0it [00:00, ?it/s]"
      ]
     },
     "metadata": {},
     "output_type": "display_data"
    },
    {
     "data": {
      "application/vnd.jupyter.widget-view+json": {
       "model_id": "",
       "version_major": 2,
       "version_minor": 0
      },
      "text/plain": [
       "Validation: 0it [00:00, ?it/s]"
      ]
     },
     "metadata": {},
     "output_type": "display_data"
    },
    {
     "data": {
      "application/vnd.jupyter.widget-view+json": {
       "model_id": "",
       "version_major": 2,
       "version_minor": 0
      },
      "text/plain": [
       "Validation: 0it [00:00, ?it/s]"
      ]
     },
     "metadata": {},
     "output_type": "display_data"
    },
    {
     "data": {
      "application/vnd.jupyter.widget-view+json": {
       "model_id": "",
       "version_major": 2,
       "version_minor": 0
      },
      "text/plain": [
       "Validation: 0it [00:00, ?it/s]"
      ]
     },
     "metadata": {},
     "output_type": "display_data"
    },
    {
     "data": {
      "application/vnd.jupyter.widget-view+json": {
       "model_id": "",
       "version_major": 2,
       "version_minor": 0
      },
      "text/plain": [
       "Validation: 0it [00:00, ?it/s]"
      ]
     },
     "metadata": {},
     "output_type": "display_data"
    },
    {
     "data": {
      "application/vnd.jupyter.widget-view+json": {
       "model_id": "",
       "version_major": 2,
       "version_minor": 0
      },
      "text/plain": [
       "Validation: 0it [00:00, ?it/s]"
      ]
     },
     "metadata": {},
     "output_type": "display_data"
    },
    {
     "data": {
      "application/vnd.jupyter.widget-view+json": {
       "model_id": "",
       "version_major": 2,
       "version_minor": 0
      },
      "text/plain": [
       "Validation: 0it [00:00, ?it/s]"
      ]
     },
     "metadata": {},
     "output_type": "display_data"
    },
    {
     "data": {
      "application/vnd.jupyter.widget-view+json": {
       "model_id": "",
       "version_major": 2,
       "version_minor": 0
      },
      "text/plain": [
       "Validation: 0it [00:00, ?it/s]"
      ]
     },
     "metadata": {},
     "output_type": "display_data"
    },
    {
     "data": {
      "application/vnd.jupyter.widget-view+json": {
       "model_id": "",
       "version_major": 2,
       "version_minor": 0
      },
      "text/plain": [
       "Validation: 0it [00:00, ?it/s]"
      ]
     },
     "metadata": {},
     "output_type": "display_data"
    },
    {
     "data": {
      "application/vnd.jupyter.widget-view+json": {
       "model_id": "",
       "version_major": 2,
       "version_minor": 0
      },
      "text/plain": [
       "Validation: 0it [00:00, ?it/s]"
      ]
     },
     "metadata": {},
     "output_type": "display_data"
    },
    {
     "data": {
      "application/vnd.jupyter.widget-view+json": {
       "model_id": "",
       "version_major": 2,
       "version_minor": 0
      },
      "text/plain": [
       "Validation: 0it [00:00, ?it/s]"
      ]
     },
     "metadata": {},
     "output_type": "display_data"
    },
    {
     "data": {
      "application/vnd.jupyter.widget-view+json": {
       "model_id": "",
       "version_major": 2,
       "version_minor": 0
      },
      "text/plain": [
       "Validation: 0it [00:00, ?it/s]"
      ]
     },
     "metadata": {},
     "output_type": "display_data"
    },
    {
     "data": {
      "application/vnd.jupyter.widget-view+json": {
       "model_id": "",
       "version_major": 2,
       "version_minor": 0
      },
      "text/plain": [
       "Validation: 0it [00:00, ?it/s]"
      ]
     },
     "metadata": {},
     "output_type": "display_data"
    },
    {
     "data": {
      "application/vnd.jupyter.widget-view+json": {
       "model_id": "",
       "version_major": 2,
       "version_minor": 0
      },
      "text/plain": [
       "Validation: 0it [00:00, ?it/s]"
      ]
     },
     "metadata": {},
     "output_type": "display_data"
    },
    {
     "data": {
      "application/vnd.jupyter.widget-view+json": {
       "model_id": "",
       "version_major": 2,
       "version_minor": 0
      },
      "text/plain": [
       "Validation: 0it [00:00, ?it/s]"
      ]
     },
     "metadata": {},
     "output_type": "display_data"
    },
    {
     "data": {
      "application/vnd.jupyter.widget-view+json": {
       "model_id": "",
       "version_major": 2,
       "version_minor": 0
      },
      "text/plain": [
       "Validation: 0it [00:00, ?it/s]"
      ]
     },
     "metadata": {},
     "output_type": "display_data"
    },
    {
     "data": {
      "application/vnd.jupyter.widget-view+json": {
       "model_id": "",
       "version_major": 2,
       "version_minor": 0
      },
      "text/plain": [
       "Validation: 0it [00:00, ?it/s]"
      ]
     },
     "metadata": {},
     "output_type": "display_data"
    },
    {
     "data": {
      "application/vnd.jupyter.widget-view+json": {
       "model_id": "",
       "version_major": 2,
       "version_minor": 0
      },
      "text/plain": [
       "Validation: 0it [00:00, ?it/s]"
      ]
     },
     "metadata": {},
     "output_type": "display_data"
    },
    {
     "data": {
      "application/vnd.jupyter.widget-view+json": {
       "model_id": "",
       "version_major": 2,
       "version_minor": 0
      },
      "text/plain": [
       "Validation: 0it [00:00, ?it/s]"
      ]
     },
     "metadata": {},
     "output_type": "display_data"
    },
    {
     "data": {
      "application/vnd.jupyter.widget-view+json": {
       "model_id": "",
       "version_major": 2,
       "version_minor": 0
      },
      "text/plain": [
       "Validation: 0it [00:00, ?it/s]"
      ]
     },
     "metadata": {},
     "output_type": "display_data"
    },
    {
     "data": {
      "application/vnd.jupyter.widget-view+json": {
       "model_id": "",
       "version_major": 2,
       "version_minor": 0
      },
      "text/plain": [
       "Validation: 0it [00:00, ?it/s]"
      ]
     },
     "metadata": {},
     "output_type": "display_data"
    },
    {
     "name": "stdout",
     "output_type": "stream",
     "text": [
      "Epoch 00038: reducing learning rate of group 0 to 2.0000e-04.\n"
     ]
    },
    {
     "data": {
      "application/vnd.jupyter.widget-view+json": {
       "model_id": "",
       "version_major": 2,
       "version_minor": 0
      },
      "text/plain": [
       "Validation: 0it [00:00, ?it/s]"
      ]
     },
     "metadata": {},
     "output_type": "display_data"
    },
    {
     "data": {
      "application/vnd.jupyter.widget-view+json": {
       "model_id": "",
       "version_major": 2,
       "version_minor": 0
      },
      "text/plain": [
       "Validation: 0it [00:00, ?it/s]"
      ]
     },
     "metadata": {},
     "output_type": "display_data"
    },
    {
     "data": {
      "application/vnd.jupyter.widget-view+json": {
       "model_id": "",
       "version_major": 2,
       "version_minor": 0
      },
      "text/plain": [
       "Validation: 0it [00:00, ?it/s]"
      ]
     },
     "metadata": {},
     "output_type": "display_data"
    },
    {
     "data": {
      "application/vnd.jupyter.widget-view+json": {
       "model_id": "",
       "version_major": 2,
       "version_minor": 0
      },
      "text/plain": [
       "Validation: 0it [00:00, ?it/s]"
      ]
     },
     "metadata": {},
     "output_type": "display_data"
    },
    {
     "data": {
      "application/vnd.jupyter.widget-view+json": {
       "model_id": "",
       "version_major": 2,
       "version_minor": 0
      },
      "text/plain": [
       "Validation: 0it [00:00, ?it/s]"
      ]
     },
     "metadata": {},
     "output_type": "display_data"
    },
    {
     "data": {
      "application/vnd.jupyter.widget-view+json": {
       "model_id": "",
       "version_major": 2,
       "version_minor": 0
      },
      "text/plain": [
       "Validation: 0it [00:00, ?it/s]"
      ]
     },
     "metadata": {},
     "output_type": "display_data"
    },
    {
     "data": {
      "application/vnd.jupyter.widget-view+json": {
       "model_id": "",
       "version_major": 2,
       "version_minor": 0
      },
      "text/plain": [
       "Validation: 0it [00:00, ?it/s]"
      ]
     },
     "metadata": {},
     "output_type": "display_data"
    },
    {
     "data": {
      "application/vnd.jupyter.widget-view+json": {
       "model_id": "",
       "version_major": 2,
       "version_minor": 0
      },
      "text/plain": [
       "Validation: 0it [00:00, ?it/s]"
      ]
     },
     "metadata": {},
     "output_type": "display_data"
    },
    {
     "data": {
      "application/vnd.jupyter.widget-view+json": {
       "model_id": "cefa73cd2618459fad461e1e86f4ee85",
       "version_major": 2,
       "version_minor": 0
      },
      "text/plain": [
       "Validation: 0it [00:00, ?it/s]"
      ]
     },
     "metadata": {},
     "output_type": "display_data"
    },
    {
     "data": {
      "application/vnd.jupyter.widget-view+json": {
       "model_id": "7bd29c4ab056472d8bc180925c20500c",
       "version_major": 2,
       "version_minor": 0
      },
      "text/plain": [
       "Validation: 0it [00:00, ?it/s]"
      ]
     },
     "metadata": {},
     "output_type": "display_data"
    },
    {
     "data": {
      "application/vnd.jupyter.widget-view+json": {
       "model_id": "0ef4f04eed8540e5bf9f62f2f337ea22",
       "version_major": 2,
       "version_minor": 0
      },
      "text/plain": [
       "Validation: 0it [00:00, ?it/s]"
      ]
     },
     "metadata": {},
     "output_type": "display_data"
    },
    {
     "data": {
      "application/vnd.jupyter.widget-view+json": {
       "model_id": "bf419d73401b4ca4bcb23ad8fb9181f4",
       "version_major": 2,
       "version_minor": 0
      },
      "text/plain": [
       "Validation: 0it [00:00, ?it/s]"
      ]
     },
     "metadata": {},
     "output_type": "display_data"
    },
    {
     "data": {
      "application/vnd.jupyter.widget-view+json": {
       "model_id": "c571b00e65af49ab928120939ef20689",
       "version_major": 2,
       "version_minor": 0
      },
      "text/plain": [
       "Validation: 0it [00:00, ?it/s]"
      ]
     },
     "metadata": {},
     "output_type": "display_data"
    },
    {
     "name": "stderr",
     "output_type": "stream",
     "text": [
      "\u001b[34m\u001b[1mwandb\u001b[0m: \u001b[33mWARNING\u001b[0m A graphql request initiated by the public wandb API timed out (timeout=9 sec). Create a new API with an integer timeout larger than 9, e.g., `api = wandb.Api(timeout=19)` to increase the graphql timeout.\n",
      "\u001b[34m\u001b[1mwandb\u001b[0m: \u001b[33mWARNING\u001b[0m A graphql request initiated by the public wandb API timed out (timeout=9 sec). Create a new API with an integer timeout larger than 9, e.g., `api = wandb.Api(timeout=19)` to increase the graphql timeout.\n"
     ]
    }
   ],
   "source": [
    "\n",
    "wandb_logger.watch(model.model)\n",
    "# train\n",
    "trainer = pl.Trainer(\n",
    "    logger = wandb_logger,\n",
    "    limit_train_batches=100,\n",
    "    limit_val_batches=10,\n",
    "    max_epochs=100,\n",
    "    gradient_clip_val=0.5,\n",
    "    accelerator='gpu',\n",
    "    callbacks=[checkpoint_callback],\n",
    ")\n",
    "\n",
    "# train the model\n",
    "trainer.fit(model=model, train_dataloaders=train_loader,  val_dataloaders=validation_loader)"
   ]
  },
  {
   "cell_type": "code",
   "execution_count": null,
   "id": "d9cb0d1e-ca67-4bc2-8671-e6b428b34c82",
   "metadata": {},
   "outputs": [],
   "source": [
    "import itertools\n",
    "def predict(model, loader, count):\n",
    "    correct = []\n",
    "    predictions = []\n",
    "    with torch.no_grad():\n",
    "        for data_x, data_y in itertools.islice(loader, count):\n",
    "            pred_y = model(data_x)\n",
    "            for d, p in zip(data_y, pred_y):\n",
    "                correct.append(np.array(d.detach()))\n",
    "                predictions.append(np.array(p.detach()))\n",
    "            if len(correct) > count:\n",
    "                break\n",
    "        return np.array(predictions), np.array(correct)"
   ]
  },
  {
   "cell_type": "code",
   "execution_count": 7,
   "id": "967ca1dc-63ad-40ee-9213-e2020bdedf58",
   "metadata": {},
   "outputs": [
    {
     "name": "stdout",
     "output_type": "stream",
     "text": [
      "loading ./lattice_pt/epoch=8-step=900.ckpt\n"
     ]
    }
   ],
   "source": [
    "# load most recent model\n",
    "import util\n",
    "checkpoint = util.latest_file(chkpt_dir)\n",
    "print(\"loading\", checkpoint)\n",
    "model = ModulePL.load_from_checkpoint(checkpoint)"
   ]
  },
  {
   "cell_type": "code",
   "execution_count": 8,
   "id": "f33a937f-fca0-4df4-9a9b-5635a50ba758",
   "metadata": {},
   "outputs": [
    {
     "data": {
      "image/png": "[encoded data removed]",
      "text/plain": [
       "<Figure size 800x900 with 6 Axes>"
      ]
     },
     "metadata": {},
     "output_type": "display_data"
    }
   ],
   "source": [
    "# plot performance\n",
    "import matplotlib.pyplot as plt\n",
    "\n",
    "count = min(100, test_set_size)\n",
    "\n",
    "feature_range = (0, 3)\n",
    "loaders = dict(\n",
    "    training=train_loader,\n",
    "    test=test_loader\n",
    ")\n",
    "fig, axs = plt.subplots(feature_range[1]-feature_range[0], len(loaders), figsize=(len(loaders)*4, 3*(feature_range[1]-feature_range[0])), dpi=100)\n",
    "fig.suptitle(f\"CNN Performance on {count} MOFs\", fontsize=16, verticalalignment='center')\n",
    "\n",
    "for i, (title, loader) in enumerate(loaders.items()):\n",
    "    x, x_hat = predict(model, loader, count)\n",
    "    for feature_idx in range(*feature_range):\n",
    "        ax = axs[feature_idx][i]\n",
    "        fx = x[:,feature_idx]\n",
    "        fx_hat = x_hat[:,feature_idx]\n",
    "        lim = [0, max(*fx, *fx_hat)*1.1]\n",
    "        ax.scatter(fx, fx_hat, s=15, linewidths=1, edgecolors='black')\n",
    "\n",
    "        ax.title.set_text(title)\n",
    "        ax.set_aspect('equal')\n",
    "        ax.set_xlim(lim)\n",
    "        ax.set_ylim(lim)\n",
    "        # plt.xscale('log')\n",
    "        # plt.yscale('log')\n",
    "        ax.plot([0, lim[1]], [0, lim[1]], color='red')\n",
    "\n",
    "plt.show()"
   ]
  },
  {
   "cell_type": "code",
   "execution_count": 10,
   "id": "7b2ad35e-93b6-4a96-830f-3959fe8ec619",
   "metadata": {},
   "outputs": [],
   "source": [
    "# load specific model\n",
    "import util\n",
    "from basic_net import BasicModel\n",
    "if True:\n",
    "    # checkpoint = \"lattice_pt/saved_checkpoints/basic_net_lattice_constants/epoch=216-step=21700.ckpt\"\n",
    "    # print(\"loading\", checkpoint)\n",
    "    # saved_model = ModulePL.load_from_checkpoint(checkpoint)\n",
    "    # torch.save(saved_model.model.state_dict(), \"lattice_pt/saved_checkpoints/basic_net_lattice_constants/model.pt\")\n",
    "    saved_model = BasicModel(6, 3, 32, 0.2)\n",
    "    saved_model.load_state_dict(torch.load(\"lattice_pt/saved_checkpoints/basic_net_lattice_constants/model.pt\"))\n",
    "    saved_model.requires_grad_(False)"
   ]
  },
  {
   "cell_type": "code",
   "execution_count": null,
   "id": "41651bb2-594f-44e2-950b-5c35cf88d47e",
   "metadata": {},
   "outputs": [],
   "source": []
  }
 ],
 "metadata": {
  "kernelspec": {
   "display_name": "mof",
   "language": "python",
   "name": "mof"
  },
  "language_info": {
   "codemirror_mode": {
    "name": "ipython",
    "version": 3
   },
   "file_extension": ".py",
   "mimetype": "text/x-python",
   "name": "python",
   "nbconvert_exporter": "python",
   "pygments_lexer": "ipython3",
   "version": "3.10.9"
  }
 },
 "nbformat": 4,
 "nbformat_minor": 5
}
