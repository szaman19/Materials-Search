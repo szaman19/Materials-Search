{
 "cells": [
  {
   "cell_type": "code",
   "execution_count": 1,
   "id": "c37e5c8b-1eab-4d53-a363-4295c30aa45b",
   "metadata": {},
   "outputs": [],
   "source": [
    "import os\n",
    "import torch\n",
    "from torch import optim, nn, utils, Tensor\n",
    "from torchvision.datasets import MNIST\n",
    "from torchvision.transforms import ToTensor\n",
    "from torch.utils.data import DataLoader, random_split\n",
    "import pytorch_lightning as pl\n",
    "from pytorch_lightning.callbacks import ModelCheckpoint\n",
    "from pytorch_lightning.loggers import WandbLogger\n",
    "from pytorch_lightning import Trainer\n",
    "\n",
    "import matplotlib.pyplot as plt\n",
    "import matplotlib.image as mpimg"
   ]
  },
  {
   "cell_type": "code",
   "execution_count": 2,
   "id": "141f998a-31da-45d8-ab95-5826cd01f79a",
   "metadata": {},
   "outputs": [],
   "source": [
    "import random\n",
    "import full_net\n",
    "import dataset as MOFdata\n",
    "\n",
    "def loss_fn(output, target):\n",
    "    return nn.functional.l1_loss(output, target)\n",
    "    # diff = torch.abs(output-target)\n",
    "    # return torch.mean(torch.max(diff, diff**3))\n",
    "    # return max(nn.functional.l1_loss(output, target), torch.mean(torch.abs(output-target)**3))\n",
    "\n",
    "# define the LightningModule\n",
    "class ModulePL(pl.LightningModule):\n",
    "    def __init__(self):\n",
    "        super().__init__()\n",
    "        self.model = full_net.BasicModel(4)\n",
    "\n",
    "    def training_step(self, batch, batch_idx):\n",
    "        x, y = batch\n",
    "        y_hat = self.model(x)\n",
    "        loss = loss_fn(y.float(), y_hat.squeeze())\n",
    "        self.log(\"train_loss\", loss)\n",
    "        return loss\n",
    "\n",
    "    def validation_step(self, val_batch, batch_idx):\n",
    "        x, y = val_batch\n",
    "        y_hat = self.model(x)\n",
    "        loss = loss_fn(y.float(), y_hat.squeeze())\n",
    "        l1_loss = nn.functional.l1_loss(y.float(), y_hat.squeeze())\n",
    "\n",
    "        self.log('validation_loss', loss)\n",
    "        self.log('validation_l1_loss', l1_loss)\n",
    "        return loss\n",
    "\n",
    "    def configure_optimizers(self):\n",
    "        optimizer = optim.Adam(self.parameters(), lr=1e-6, amsgrad=True)\n",
    "        return optimizer\n",
    "\n",
    "\n",
    "autoencoder = ModulePL()"
   ]
  },
  {
   "cell_type": "code",
   "execution_count": 3,
   "id": "b833dac3-c4ed-4d69-a431-fc6ede333025",
   "metadata": {},
   "outputs": [
    {
     "ename": "FileNotFoundError",
     "evalue": "[Errno 2] No such file or directory: 'grids.npy'",
     "output_type": "error",
     "traceback": [
      "\u001b[0;31m---------------------------------------------------------------------------\u001b[0m",
      "\u001b[0;31mFileNotFoundError\u001b[0m                         Traceback (most recent call last)",
      "Cell \u001b[0;32mIn[3], line 16\u001b[0m\n\u001b[1;32m     13\u001b[0m csv_file \u001b[38;5;241m=\u001b[39m \u001b[38;5;124m\"\u001b[39m\u001b[38;5;124mASR.csv\u001b[39m\u001b[38;5;124m\"\u001b[39m\n\u001b[1;32m     14\u001b[0m feature \u001b[38;5;241m=\u001b[39m \u001b[38;5;124m\"\u001b[39m\u001b[38;5;124mLCD\u001b[39m\u001b[38;5;124m\"\u001b[39m\n\u001b[0;32m---> 16\u001b[0m dataset \u001b[38;5;241m=\u001b[39m \u001b[43mMOFdata\u001b[49m\u001b[38;5;241;43m.\u001b[39;49m\u001b[43mDataset\u001b[49m\u001b[43m(\u001b[49m\u001b[43mgrid_file\u001b[49m\u001b[43m,\u001b[49m\u001b[43m \u001b[49m\u001b[43mlink_file\u001b[49m\u001b[43m,\u001b[49m\u001b[43m \u001b[49m\u001b[43mcsv_file\u001b[49m\u001b[43m,\u001b[49m\u001b[43m \u001b[49m\u001b[43mfeature\u001b[49m\u001b[43m,\u001b[49m\u001b[43m \u001b[49m\u001b[43mfilter_data\u001b[49m\u001b[43m)\u001b[49m\n\u001b[1;32m     17\u001b[0m train_set_size \u001b[38;5;241m=\u001b[39m \u001b[38;5;28mint\u001b[39m(\u001b[38;5;241m.9\u001b[39m \u001b[38;5;241m*\u001b[39m \u001b[38;5;28mlen\u001b[39m(dataset))\n\u001b[1;32m     18\u001b[0m validation_set_size \u001b[38;5;241m=\u001b[39m \u001b[38;5;28mint\u001b[39m(\u001b[38;5;241m.05\u001b[39m \u001b[38;5;241m*\u001b[39m \u001b[38;5;28mlen\u001b[39m(dataset))\n",
      "File \u001b[0;32m~/Materials/Materials-Search/Screening/dataset.py:30\u001b[0m, in \u001b[0;36mDataset.__init__\u001b[0;34m(self, grid_file, link_file, csv_lattice, feature, mapping)\u001b[0m\n\u001b[1;32m     28\u001b[0m \u001b[38;5;28;01mdef\u001b[39;00m \u001b[38;5;21m__init__\u001b[39m(\u001b[38;5;28mself\u001b[39m, grid_file, link_file, csv_lattice, feature, mapping\u001b[38;5;241m=\u001b[39m\u001b[38;5;28;01mNone\u001b[39;00m):\n\u001b[1;32m     29\u001b[0m     \u001b[38;5;28msuper\u001b[39m()\u001b[38;5;241m.\u001b[39m\u001b[38;5;21m__init__\u001b[39m()\n\u001b[0;32m---> 30\u001b[0m     grids \u001b[38;5;241m=\u001b[39m \u001b[38;5;28mlist\u001b[39m(np\u001b[38;5;241m.\u001b[39mfloat32(\u001b[43mnp\u001b[49m\u001b[38;5;241;43m.\u001b[39;49m\u001b[43mload\u001b[49m\u001b[43m(\u001b[49m\u001b[43mgrid_file\u001b[49m\u001b[43m)\u001b[49m))\n\u001b[1;32m     31\u001b[0m     \u001b[38;5;28;01mif\u001b[39;00m mapping:\n\u001b[1;32m     32\u001b[0m         grids \u001b[38;5;241m=\u001b[39m [mapping(x) \u001b[38;5;28;01mfor\u001b[39;00m x \u001b[38;5;129;01min\u001b[39;00m grids]\n",
      "File \u001b[0;32m~/miniconda3/envs/mof/lib/python3.10/site-packages/numpy/lib/npyio.py:405\u001b[0m, in \u001b[0;36mload\u001b[0;34m(file, mmap_mode, allow_pickle, fix_imports, encoding, max_header_size)\u001b[0m\n\u001b[1;32m    403\u001b[0m     own_fid \u001b[38;5;241m=\u001b[39m \u001b[38;5;28;01mFalse\u001b[39;00m\n\u001b[1;32m    404\u001b[0m \u001b[38;5;28;01melse\u001b[39;00m:\n\u001b[0;32m--> 405\u001b[0m     fid \u001b[38;5;241m=\u001b[39m stack\u001b[38;5;241m.\u001b[39menter_context(\u001b[38;5;28;43mopen\u001b[39;49m\u001b[43m(\u001b[49m\u001b[43mos_fspath\u001b[49m\u001b[43m(\u001b[49m\u001b[43mfile\u001b[49m\u001b[43m)\u001b[49m\u001b[43m,\u001b[49m\u001b[43m \u001b[49m\u001b[38;5;124;43m\"\u001b[39;49m\u001b[38;5;124;43mrb\u001b[39;49m\u001b[38;5;124;43m\"\u001b[39;49m\u001b[43m)\u001b[49m)\n\u001b[1;32m    406\u001b[0m     own_fid \u001b[38;5;241m=\u001b[39m \u001b[38;5;28;01mTrue\u001b[39;00m\n\u001b[1;32m    408\u001b[0m \u001b[38;5;66;03m# Code to distinguish from NumPy binary files and pickles.\u001b[39;00m\n",
      "\u001b[0;31mFileNotFoundError\u001b[0m: [Errno 2] No such file or directory: 'grids.npy'"
     ]
    }
   ],
   "source": [
    "import numpy as np\n",
    "\n",
    "def filter_data(x):\n",
    "    a, b = -4000, 4000\n",
    "    mid = (a+b)/2\n",
    "    dif = b-a\n",
    "    return np.clip(x, a, b) / dif / 2 - (mid/dif)\n",
    "    # sigmoid\n",
    "    # return 1/(1 + np.exp(-np.clip(x, -32, 32)))\n",
    "\n",
    "grid_file = \"grids.npy\"\n",
    "link_file = \"grids.link\"\n",
    "csv_file = \"ASR.csv\"\n",
    "feature = \"LCD\"\n",
    "\n",
    "dataset = MOFdata.Dataset(grid_file, link_file, csv_file, feature, filter_data)\n",
    "train_set_size = int(.9 * len(dataset))\n",
    "validation_set_size = int(.05 * len(dataset))\n",
    "test_set_size = len(dataset) - train_set_size - validation_set_size\n",
    "train_set, validation_set, test_set = random_split(\n",
    "    dataset=dataset,\n",
    "    lengths=(train_set_size,\n",
    "    validation_set_size,\n",
    "    test_set_size),\n",
    "    generator=torch.Generator().manual_seed(42))\n",
    "\n",
    "loader_args = dict(batch_size=64, num_workers=4)\n",
    "train_loader = DataLoader(train_set, **loader_args)\n",
    "validation_loader = DataLoader(validation_set, **loader_args)\n",
    "test_loader = DataLoader(test_set, **loader_args)\n",
    "\n",
    "chkpt_dir = \"./basic_chkpts\"\n",
    "# first, label = dataset[0]\n",
    "# print(label)\n",
    "# plt.imshow(first.reshape(28, 28))"
   ]
  },
  {
   "cell_type": "code",
   "execution_count": null,
   "id": "6f28a567-ff81-41da-96a0-880049db96ee",
   "metadata": {},
   "outputs": [],
   "source": [
    "wandb_logger = WandbLogger(project=\"wide-net\")\n",
    "checkpoint_callback = ModelCheckpoint(dirpath=chkpt_dir, save_top_k=5, monitor=\"validation_l1_loss\")\n",
    "trainer = pl.Trainer(\n",
    "    logger = wandb_logger,\n",
    "    limit_train_batches=100,\n",
    "    limit_val_batches=10,\n",
    "    max_epochs=200,\n",
    "    accelerator='gpu',\n",
    "    callbacks=[checkpoint_callback],\n",
    ")\n",
    "trainer.fit(model=autoencoder, train_dataloaders=train_loader, val_dataloaders=validation_loader)"
   ]
  },
  {
   "cell_type": "code",
   "execution_count": 7,
   "id": "e36a378d-bd09-4989-9ca1-14f585585adf",
   "metadata": {},
   "outputs": [
    {
     "name": "stdout",
     "output_type": "stream",
     "text": [
      "reading checkpoint ./basic_chkpts/epoch=209-step=21000.ckpt\n",
      "1.1903732598762253 1.8445035640905103 12.887811625366211\n"
     ]
    }
   ],
   "source": [
    "import os\n",
    "\n",
    "# load checkpoint\n",
    "checkpoint = sorted([os.path.join(chkpt_dir, file) for file in os.listdir(chkpt_dir)], key=lambda x: os.path.getmtime(x), reverse=True)[0]\n",
    "print(\"reading checkpoint\", checkpoint)\n",
    "\n",
    "model = ModulePL.load_from_checkpoint(checkpoint)\n",
    "\n",
    "model = model.model.cpu().eval()\n",
    "\n",
    "ratio_off_mean = 0\n",
    "runs = 0\n",
    "worst = 0\n",
    "worst_absolute = 0\n",
    "for data_x, data_y in validation_loader:\n",
    "    pred_y = model(data_x)\n",
    "    for p, d in zip(pred_y.squeeze(), data_y):\n",
    "        worst_absolute = max(worst_absolute, abs(p-d).item())\n",
    "        r = abs(p.item() / d.item())\n",
    "        r = max(r, 1/r)\n",
    "        if r > worst:\n",
    "            worst = r\n",
    "        ratio_off_mean += r\n",
    "        runs += 1\n",
    "print(ratio_off_mean/runs, worst, worst_absolute)"
   ]
  },
  {
   "cell_type": "code",
   "execution_count": 8,
   "id": "4ecb32e3-5f25-43d9-a391-b14d0039a125",
   "metadata": {},
   "outputs": [],
   "source": [
    "\n",
    "def predict(model, loader, count):\n",
    "    correct = []\n",
    "    predictions = []\n",
    "    for data_x, data_y in loader:\n",
    "        pred_y = model(data_x)\n",
    "        for p, d in zip(pred_y.squeeze(), data_y):\n",
    "            correct.append(p.item())\n",
    "            predictions.append(d.item())\n",
    "            count -= 1\n",
    "        if count <= 0:\n",
    "            break\n",
    "    return predictions, correct"
   ]
  },
  {
   "cell_type": "code",
   "execution_count": 9,
   "id": "727a5d9f-7dba-449f-8779-2ed296600df8",
   "metadata": {},
   "outputs": [
    {
     "data": {
      "image/png": "[encoded data removed]",
      "text/plain": [
       "<Figure size 900x300 with 3 Axes>"
      ]
     },
     "metadata": {
      "needs_background": "light"
     },
     "output_type": "display_data"
    }
   ],
   "source": [
    "# plot performance\n",
    "\n",
    "count = min(1024, test_set_size)\n",
    "\n",
    "fig, axs = plt.subplots(1, 3, figsize=(9, 3), dpi=100)\n",
    "fig.suptitle(f\"CNN Performance on {count} MOFs\", fontsize=16, verticalalignment='center')\n",
    "\n",
    "for i, (title, loader) in enumerate(zip((\"training\", \"validation\", \"test\"), (train_loader, validation_loader, test_loader))):\n",
    "    ax = axs[i]\n",
    "    x, x_hat = predict(model, loader, count)\n",
    "    lim = [0, max(*x, *x_hat)*1.1]\n",
    "    ax.scatter(x, x_hat, s=20, linewidths=1, edgecolors='black')\n",
    "\n",
    "    ax.title.set_text(title)\n",
    "    ax.set_aspect('equal')\n",
    "    ax.set_xlim(lim)\n",
    "    ax.set_ylim(lim)\n",
    "    # plt.xscale('log')\n",
    "    # plt.yscale('log')\n",
    "    ax.plot([0, lim[1]], [0, lim[1]], color='red')\n",
    "\n",
    "plt.show()"
   ]
  },
  {
   "cell_type": "code",
   "execution_count": null,
   "id": "b784176d-4ebb-4662-bb16-b56527dc27ff",
   "metadata": {},
   "outputs": [],
   "source": []
  }
 ],
 "metadata": {
  "kernelspec": {
   "display_name": "mof",
   "language": "python",
   "name": "mof"
  },
  "language_info": {
   "codemirror_mode": {
    "name": "ipython",
    "version": 3
   },
   "file_extension": ".py",
   "mimetype": "text/x-python",
   "name": "python",
   "nbconvert_exporter": "python",
   "pygments_lexer": "ipython3",
   "version": "3.10.9"
  }
 },
 "nbformat": 4,
 "nbformat_minor": 5
}
